{
 "cells": [
  {
   "cell_type": "code",
   "execution_count": null,
   "id": "impressive-davis",
   "metadata": {},
   "outputs": [],
   "source": [
    "import autograd.numpy as np\n",
    "import autograd.numpy.random as npr\n",
    "npr.seed(0)\n",
    "\n",
    "import pandas as pd\n",
    "import cst\n",
    "import pyaldata\n",
    "\n",
    "import ssm\n",
    "from ssm.util import find_permutation\n",
    "from ssm.plots import gradient_cmap, white_to_color_cmap\n",
    "\n",
    "import matplotlib.pyplot as plt\n",
    "%matplotlib inline\n",
    "\n",
    "import seaborn as sns\n",
    "sns.set_style(\"white\")\n",
    "sns.set_context(\"talk\")\n",
    "\n",
    "color_names = [\n",
    "    \"windows blue\",\n",
    "    \"red\",\n",
    "    \"amber\",\n",
    "    \"faded green\",\n",
    "    \"dusty purple\",\n",
    "    \"orange\"\n",
    "    ]\n",
    "\n",
    "colors = sns.xkcd_palette(color_names)\n",
    "cmap = gradient_cmap(colors)\n",
    "\n",
    "\n",
    "# Speficy whether or not to save figures\n",
    "save_figures = False"
   ]
  },
  {
   "cell_type": "code",
   "execution_count": null,
   "id": "revised-valley",
   "metadata": {},
   "outputs": [],
   "source": [
    "filename = '/home/raeed/data/project-data/smile/cst-gainlag/library/python/Ford_20180618_COCST_TD.mat'\n",
    "# td = cst.get_cst_dataframe(filename)\n",
    "td = pyaldata.mat2dataframe(filename,True,'td_cst')"
   ]
  },
  {
   "cell_type": "code",
   "execution_count": null,
   "id": "jewish-cambodia",
   "metadata": {},
   "outputs": [],
   "source": [
    "td['cursor_pos']"
   ]
  },
  {
   "cell_type": "code",
   "execution_count": null,
   "id": "supported-thousand",
   "metadata": {},
   "outputs": [],
   "source": [
    "trial_info = td['monkey':'lambda']\n",
    "cont_sigs = "
   ]
  },
  {
   "cell_type": "code",
   "execution_count": null,
   "id": "subjective-nutrition",
   "metadata": {},
   "outputs": [],
   "source": [
    "num_states = 2\n",
    "obs_dim = 2\n",
    "input_dims = 2\n",
    "N_iters = 50\n",
    "\n",
    "data = obs # Treat observations generated above as synthetic data.\n",
    "\n",
    "## testing the constrained transitions class\n",
    "hmm = ssm.HMM(num_states, obs_dim, M=input_dims, observations=\"autoregressive\",transitions='standard')\n",
    "\n",
    "hmm_lls = hmm.fit(obs, inputs=random_input, method=\"em\", num_iters=N_iters, init_method=\"kmeans\") #can also use random for initialization method, which sometimes works better\n",
    "\n",
    "plt.plot(hmm_lls, label=\"EM\")\n",
    "plt.plot([0, N_iters], true_ll * np.ones(2), ':k', label=\"True\")\n",
    "plt.xlabel(\"EM Iteration\")\n",
    "plt.ylabel(\"Log Probability\")\n",
    "plt.legend(loc=\"lower right\")\n",
    "plt.show()"
   ]
  }
 ],
 "metadata": {
  "kernelspec": {
   "display_name": "Python 3",
   "language": "python",
   "name": "python3"
  },
  "language_info": {
   "codemirror_mode": {
    "name": "ipython",
    "version": 3
   },
   "file_extension": ".py",
   "mimetype": "text/x-python",
   "name": "python",
   "nbconvert_exporter": "python",
   "pygments_lexer": "ipython3",
   "version": "3.7.9"
  }
 },
 "nbformat": 4,
 "nbformat_minor": 5
}
