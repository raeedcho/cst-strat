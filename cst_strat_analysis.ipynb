{
 "cells": [
  {
   "cell_type": "code",
   "execution_count": 1,
   "id": "impressive-davis",
   "metadata": {},
   "outputs": [],
   "source": [
    "import autograd.numpy as np\n",
    "import autograd.numpy.random as npr\n",
    "\n",
    "import pandas as pd\n",
    "import cst\n",
    "import pyaldata\n",
    "\n",
    "import ssm\n",
    "from ssm.util import find_permutation\n",
    "from ssm.plots import gradient_cmap, white_to_color_cmap\n",
    "\n",
    "import matplotlib.pyplot as plt\n",
    "import matplotlib as mpl\n",
    "mpl.rcParams['pdf.fonttype'] = 42\n",
    "mpl.rcParams['ps.fonttype'] = 42\n",
    "%matplotlib inline\n",
    "\n",
    "import seaborn as sns\n",
    "sns.set_style(\"ticks\")\n",
    "sns.set_context(\"talk\")"
   ]
  },
  {
   "cell_type": "code",
   "execution_count": 16,
   "id": "solar-writing",
   "metadata": {},
   "outputs": [],
   "source": [
    "num_states = 4\n",
    "obs_dim = 1\n",
    "input_dims = 3\n",
    "\n",
    "color_names = [\n",
    "    \"windows blue\",\n",
    "    \"faded green\",\n",
    "    \"orange\",\n",
    "    \"amber\",\n",
    "    \"dusty purple\",\n",
    "    ]\n",
    "\n",
    "colors = sns.xkcd_palette(color_names[:num_states])\n",
    "cmap = gradient_cmap(colors)\n",
    "\n",
    "\n",
    "# Speficy whether or not to save figures\n",
    "save_figures = False"
   ]
  },
  {
   "cell_type": "code",
   "execution_count": 11,
   "id": "effective-argentina",
   "metadata": {},
   "outputs": [
    {
     "data": {
      "text/html": [
       "<svg  width=\"275\" height=\"55\"><rect x=\"0\" y=\"0\" width=\"55\" height=\"55\" style=\"fill:#3778bf;stroke-width:2;stroke:rgb(255,255,255)\"/><rect x=\"55\" y=\"0\" width=\"55\" height=\"55\" style=\"fill:#7bb274;stroke-width:2;stroke:rgb(255,255,255)\"/><rect x=\"110\" y=\"0\" width=\"55\" height=\"55\" style=\"fill:#f97306;stroke-width:2;stroke:rgb(255,255,255)\"/><rect x=\"165\" y=\"0\" width=\"55\" height=\"55\" style=\"fill:#feb308;stroke-width:2;stroke:rgb(255,255,255)\"/><rect x=\"220\" y=\"0\" width=\"55\" height=\"55\" style=\"fill:#825f87;stroke-width:2;stroke:rgb(255,255,255)\"/></svg>"
      ],
      "text/plain": [
       "[(0.21568627450980393, 0.47058823529411764, 0.7490196078431373),\n",
       " (0.4823529411764706, 0.6980392156862745, 0.4549019607843137),\n",
       " (0.9764705882352941, 0.45098039215686275, 0.023529411764705882),\n",
       " (0.996078431372549, 0.7019607843137254, 0.03137254901960784),\n",
       " (0.5098039215686274, 0.37254901960784315, 0.5294117647058824)]"
      ]
     },
     "execution_count": 11,
     "metadata": {},
     "output_type": "execute_result"
    },
    {
     "data": {
      "image/png": "[encoded data removed]",
      "text/plain": [
       "<Figure size 72x360 with 1 Axes>"
      ]
     },
     "metadata": {},
     "output_type": "display_data"
    }
   ],
   "source": [
    "a=np.outer(np.arange(0,1,0.01),np.ones(10))\n",
    "plt.figure(figsize=(1,5))\n",
    "plt.axis(\"off\")\n",
    "plt.imshow(a,aspect='auto',cmap=cmap,origin=\"lower\")\n",
    "colors"
   ]
  },
  {
   "cell_type": "code",
   "execution_count": 4,
   "id": "revised-valley",
   "metadata": {},
   "outputs": [],
   "source": [
    "filename = '/data/raeed/project-data/smile/cst-gainlag/library/python/Ford_20180618_COCST_TD.mat'\n",
    "# td = cst.get_cst_dataframe(filename)\n",
    "td = pyaldata.mat2dataframe(filename,True,'td_cst')\n",
    "td.set_index('trial_id',inplace=True)"
   ]
  },
  {
   "cell_type": "code",
   "execution_count": 17,
   "id": "transsexual-provider",
   "metadata": {},
   "outputs": [
    {
     "data": {
      "application/vnd.jupyter.widget-view+json": {
       "model_id": "9ab6cc4fea9f49b78571aab37bfe756c",
       "version_major": 2,
       "version_minor": 0
      },
      "text/plain": [
       "  0%|          | 0/50 [00:00<?, ?it/s]"
      ]
     },
     "metadata": {},
     "output_type": "display_data"
    },
    {
     "data": {
      "image/png": "[encoded data removed]",
      "text/plain": [
       "<Figure size 432x288 with 1 Axes>"
      ]
     },
     "metadata": {},
     "output_type": "display_data"
    }
   ],
   "source": [
    "N_iters = 50\n",
    "\n",
    "lambda_to_use = 3.3\n",
    "td_lambda = td[td['lambda']==lambda_to_use]\n",
    "# td_lambda = td\n",
    "# control_obs = [el[:,0][:,None] for el in td_lambda['hand_vel']]\n",
    "control_obs = [el[:,0][:,None] for el in td_lambda['hand_vel']]\n",
    "vis_input = [np.column_stack((pos[:,0],vel[:,0],hand_pos[:,0]))\n",
    "            for pos,vel,hand_pos in zip(td_lambda['cursor_pos_shift'],td_lambda['cursor_vel_shift'],td_lambda['hand_pos'])]\n",
    "\n",
    "# hand_vel = A_{z_t}*(hand_vel_{t-1}) + V_{z_t}*[cursor_pos_shift;cursor_vel_shift;hand_pos] + \\omega\n",
    "\n",
    "# hmm = ssm.HMM(num_states, obs_dim, M=input_dims, observations=\"input_driven_gaussian\",transitions='recurrent_only',lags=0)\n",
    "hmm = ssm.HMM(num_states, obs_dim, M=input_dims, observations=\"autoregressive\",transitions='recurrent_only',observation_kwargs=dict(l2_penalty_A=1e10))\n",
    "\n",
    "hmm_lls = hmm.fit(control_obs, inputs=vis_input, method=\"em\", num_iters=N_iters, init_method=\"kmeans\") #can also use random for initialization method, which sometimes works better\n",
    "\n",
    "# make plots\n",
    "plt.plot(hmm_lls, label=\"EM\")\n",
    "plt.xlabel(\"EM Iteration\")\n",
    "plt.ylabel(\"Log Probability\")\n",
    "plt.legend(loc=\"lower right\")\n",
    "plt.show()"
   ]
  },
  {
   "cell_type": "code",
   "execution_count": 14,
   "id": "differential-florida",
   "metadata": {},
   "outputs": [],
   "source": [
    "# permute states to keep things consistent\n",
    "hmm.permute([2,1,0])"
   ]
  },
  {
   "cell_type": "code",
   "execution_count": 18,
   "id": "numeric-minimum",
   "metadata": {},
   "outputs": [
    {
     "data": {
      "application/vnd.jupyter.widget-view+json": {
       "model_id": "ebb39abce1a34915962d94ead5bb26bd",
       "version_major": 2,
       "version_minor": 0
      },
      "text/plain": [
       "interactive(children=(Dropdown(description='trial_id', options=(151, 152, 153, 154, 155, 158, 159, 160, 161, 1…"
      ]
     },
     "metadata": {},
     "output_type": "display_data"
    }
   ],
   "source": [
    "from ipywidgets import interact\n",
    "\n",
    "@interact(trial_id=list(td_lambda.index),scale=(10,60),color_by_state=False)\n",
    "def plot_cst_trial(trial_id,scale,color_by_state):\n",
    "    trial = td_lambda.loc[trial_id,:]\n",
    "    data = trial['hand_vel'][:,0][:,None]\n",
    "    inpt = np.column_stack((trial['cursor_pos_shift'][:,0],trial['cursor_vel_shift'][:,0],trial['hand_pos'][:,0]))\n",
    "    \n",
    "    # Plot the true and inferred discrete states\n",
    "    hmm_z = hmm.most_likely_states(data,input=inpt)\n",
    "    posterior_probs = hmm.expected_states(data=data, input=inpt)[0]\n",
    "\n",
    "    # old way\n",
    "    plt.figure(figsize=(5,5))\n",
    "    ax1 = plt.subplot(2,1,1)\n",
    "    plt.plot([0,6],[0,0],'-k')\n",
    "    plt.plot(trial['trialtime'],trial['cursor_pos'][:,0],'-b')\n",
    "    plt.plot(trial['trialtime'],trial['hand_pos'][:,0],'-r')\n",
    "    plt.xlim(0,6)\n",
    "    plt.xticks([])\n",
    "    plt.ylim(-scale,scale)\n",
    "    plt.ylabel('Cursor or hand position')\n",
    "    plt.title('$\\lambda = {}$'.format(trial['lambda']))\n",
    "    sns.despine()\n",
    "    \n",
    "    plt.subplot(212,sharex=ax1)\n",
    "    for k in range(num_states):\n",
    "        plt.plot(trial['trialtime'],posterior_probs[:, k], label=\"State \" + str(k + 1), lw=2,\n",
    "             color=colors[k])\n",
    "    plt.ylim((-0.01, 1.01))\n",
    "    plt.yticks([0, 0.5, 1], fontsize = 10)\n",
    "    plt.xlim(0,6)\n",
    "    plt.xlabel('Time (s)')\n",
    "    plt.ylabel(\"p(state)\", fontsize = 15)\n",
    "    sns.despine()\n",
    "    \n",
    "    plt.figure(figsize=(5,10))\n",
    "    plt.subplot(211)\n",
    "    plt.plot([-60,60],[60,-60],'--k')\n",
    "    plt.plot([0,0],[-60,60],'-k')\n",
    "    plt.plot([-60,60],[0,0],'-k')\n",
    "    if color_by_state:\n",
    "        plt.scatter(\n",
    "            trial['cursor_pos'][:,0],\n",
    "            trial['hand_pos'][:,0],\n",
    "            c=hmm_z,\n",
    "            cmap=cmap,\n",
    "            s=10,\n",
    "            norm=mpl.colors.Normalize(vmin=0,vmax=num_states-1)\n",
    "        )\n",
    "    else:\n",
    "        plt.scatter(trial['cursor_pos'][:,0],trial['hand_pos'][:,0],c='k',s=10)\n",
    "    plt.xlim(-scale,scale)\n",
    "    plt.ylim(-scale,scale)\n",
    "    plt.xlabel('Cursor pos')\n",
    "    plt.ylabel('Hand pos')\n",
    "    sns.despine()\n",
    "    \n",
    "#     plt.subplot(222)\n",
    "#     plt.imshow(hmm_z[None,:],\n",
    "#                aspect=\"auto\",\n",
    "#                cmap=cmap,\n",
    "#                vmin=0,\n",
    "#                vmax=len(colors)-1,\n",
    "#                extent=(0, trial['bin_size']*trial['hand_pos'].shape[0], -scale, scale))\n",
    "#     plt.plot(np.arange(0,trial['cursor_pos'].shape[0])*trial['bin_size'],trial['hand_pos'][:,0], '-k')\n",
    "#     plt.xlim(0, trial['bin_size']*trial['hand_pos'].shape[0])\n",
    "#     plt.xlabel(\"time\")\n",
    "#     plt.ylim(-scale,scale)\n",
    "#     plt.tight_layout()\n",
    "    \n",
    "#     plt.subplot(223)\n",
    "#     plt.imshow(hmm_z[:,None],\n",
    "#                aspect=\"auto\",\n",
    "#                cmap=cmap,\n",
    "#                vmin=0,\n",
    "#                vmax=len(colors)-1,\n",
    "#                extent=(-scale, scale, trial['bin_size']*trial['cursor_pos'].shape[0], 0))\n",
    "#     plt.plot(trial['cursor_pos'][:,0],np.arange(0,trial['cursor_pos'].shape[0])*trial['bin_size'], '-k')\n",
    "#     plt.ylim(0, trial['bin_size']*trial['hand_pos'].shape[0])\n",
    "#     plt.ylabel(\"time\")\n",
    "#     plt.xlim(-scale,scale)\n",
    "#     plt.tight_layout()\n",
    "    \n",
    "    plt.subplot(212)\n",
    "    plt.plot([0,0],[-100,100],'-k')\n",
    "    plt.plot([-60,60],[0,0],'-k')\n",
    "    if color_by_state:\n",
    "        plt.scatter(\n",
    "            trial['cursor_pos_shift'][:,0],\n",
    "            trial['cursor_vel_shift'][:,0],\n",
    "            c=hmm_z,\n",
    "            cmap=cmap,\n",
    "            s=10,\n",
    "            norm=mpl.colors.Normalize(vmin=0,vmax=num_states-1)\n",
    "        )\n",
    "    else:\n",
    "        plt.scatter(trial['cursor_pos_shift'][:,0],trial['cursor_vel_shift'][:,0],c='k',s=10)\n",
    "    plt.xlim(-scale,scale)\n",
    "    plt.ylim(-100,100)\n",
    "    plt.xlabel('Delayed cursor pos')\n",
    "    plt.ylabel('Delayed cursor vel')\n",
    "    sns.despine()\n",
    "    \n",
    "    fig,ax = plt.subplots(num_states,1,figsize=(6,6),sharex=True,sharey=True)\n",
    "    for statenum in range(num_states):\n",
    "        ax[statenum].hist(\n",
    "            trial['hand_vel'][hmm_z==statenum,0],\n",
    "            bins=np.linspace(trial['hand_vel'][:,0].min(),trial['hand_vel'][:,0].max(),30),\n",
    "            color=colors[statenum])\n",
    "        sns.despine()\n",
    "        \n",
    "    ax[0].set_title('Hand velocity distribution per state')\n",
    "    ax[-1].set_xlabel('Hand velocity (mm/s)')\n",
    "    ax[-1].set_ylabel('Number of 1 ms bins')"
   ]
  },
  {
   "cell_type": "code",
   "execution_count": null,
   "id": "written-domain",
   "metadata": {},
   "outputs": [],
   "source": [
    "# Histogram of cursor/hand velocities during each state over all trials\n",
    "\n"
   ]
  },
  {
   "cell_type": "code",
   "execution_count": null,
   "id": "working-ultimate",
   "metadata": {},
   "outputs": [],
   "source": [
    "for i in range(num_states):\n",
    "    plt.subplot(4,2,2*i+2)\n",
    "    plt.imshow(hmm.observations.As[i],aspect='auto',cmap='RdBu',clim=[-1,1])\n",
    "    if i==0:\n",
    "        plt.title('Predicted')\n",
    "    plt.ylabel('State'+str(i))\n"
   ]
  },
  {
   "cell_type": "code",
   "execution_count": 66,
   "id": "million-saver",
   "metadata": {},
   "outputs": [
    {
     "name": "stdout",
     "output_type": "stream",
     "text": [
      "[[[1.71446489e-05]]\n",
      "\n",
      " [[3.65875830e-05]]\n",
      "\n",
      " [[4.24024032e-05]]]\n",
      "[[ -0.70905846]\n",
      " [  9.32626132]\n",
      " [-10.48102838]]\n",
      "[[[ 3.51432667 -1.97826251  3.57157793]]\n",
      "\n",
      " [[ 4.14664068 -2.08691611  4.23513941]]\n",
      "\n",
      " [[ 3.6048007  -2.03443168  3.59886202]]]\n"
     ]
    }
   ],
   "source": [
    "dt = 1e-3\n",
    "# print((hmm.observations.As-1)/dt)\n",
    "print(hmm.observations.As)\n",
    "print(hmm.observations.bs)\n",
    "print(hmm.observations.Vs)"
   ]
  },
  {
   "cell_type": "code",
   "execution_count": null,
   "id": "backed-lecture",
   "metadata": {},
   "outputs": [],
   "source": [
    "def plot_most_likely_dynamics(model,\n",
    "    xlim=(-30, 30), ylim=(-100, 100), nxpts=20, nypts=20,\n",
    "    alpha=0.8, ax=None, figsize=(3, 3)):\n",
    "    \n",
    "    K = model.K\n",
    "    assert model.D == 2\n",
    "    x = np.linspace(*xlim, nxpts)\n",
    "    y = np.linspace(*ylim, nypts)\n",
    "    X, Y = np.meshgrid(x, y)\n",
    "    xy = np.column_stack((X.ravel(), Y.ravel()))\n",
    "\n",
    "    # Get the probability of each state at each xy location\n",
    "    z = np.argmax(xy.dot(model.transitions.Rs.T) + model.transitions.r, axis=1)\n",
    "\n",
    "    if ax is None:\n",
    "        fig = plt.figure(figsize=figsize)\n",
    "        ax = fig.add_subplot(111)\n",
    "\n",
    "    for k, (A, b) in enumerate(zip(model.dynamics.As, model.dynamics.bs)):\n",
    "        dxydt_m = xy.dot(A.T) + b - xy\n",
    "\n",
    "        zk = z == k\n",
    "        if zk.sum(0) > 0:\n",
    "            ax.quiver(xy[zk, 0], xy[zk, 1],\n",
    "                      dxydt_m[zk, 0], dxydt_m[zk, 1],\n",
    "                      color=colors[k % len(colors)], alpha=alpha)\n",
    "\n",
    "    ax.set_xlabel('$x_1$')\n",
    "    ax.set_ylabel('$x_2$')\n",
    "\n",
    "    plt.tight_layout()\n",
    "\n",
    "    return ax"
   ]
  },
  {
   "cell_type": "code",
   "execution_count": null,
   "id": "acceptable-target",
   "metadata": {},
   "outputs": [],
   "source": [
    "print(hmm.transitions.Rs)\n",
    "print(hmm.transitions.r)\n",
    "print(hmm.transitions.Ws)"
   ]
  },
  {
   "cell_type": "code",
   "execution_count": null,
   "id": "likely-fluid",
   "metadata": {},
   "outputs": [],
   "source": [
    "hmm.transitions.transition_matrices(np.ones((3,1)),input=np.zeros((3,2)),mask=None,tag=None)"
   ]
  },
  {
   "cell_type": "code",
   "execution_count": 56,
   "id": "empirical-chick",
   "metadata": {},
   "outputs": [
    {
     "name": "stdout",
     "output_type": "stream",
     "text": [
      "Cursor norm: 20.424231478312453, 41.19827142401718. Hand norm: 21.480630694019194\n",
      "Cursor norm: 5.61105745220138, 9.25052322182254. Hand norm: 6.189252648724854\n",
      "Cursor norm: 6.20130830625251, 27.31931739132772. Hand norm: 7.263373934046816\n",
      "Cursor norm: 8.507695138878173, 18.49789333908668. Hand norm: 9.866937430683754\n",
      "Cursor norm: 10.943314875763637, 33.228697579305454. Hand norm: 11.359033035204538\n",
      "Cursor norm: 7.236795325015762, 25.386132983059724. Hand norm: 9.89081057972995\n",
      "Cursor norm: 8.749493502473104, 28.15320380681541. Hand norm: 10.310487132527468\n",
      "Cursor norm: 9.447822843945769, 11.132247100111641. Hand norm: 9.98147240800696\n",
      "Cursor norm: 33.71513118326782, 29.366167800258886. Hand norm: 32.661696322854894\n",
      "Cursor norm: 6.093937148788903, 19.927268255616678. Hand norm: 7.449465278408954\n",
      "Cursor norm: 6.325739991857857, 37.642333506421586. Hand norm: 7.591538350437245\n",
      "Cursor norm: 8.408214182008955, 18.53500045200462. Hand norm: 9.010981834152133\n",
      "Cursor norm: 8.013906075794157, 30.575055887463567. Hand norm: 8.991470284959584\n",
      "Cursor norm: 6.702326301756833, 25.65092013155285. Hand norm: 7.955818247369934\n",
      "Cursor norm: 36.878933288574224, 39.76317230768716. Hand norm: 35.72878197793549\n",
      "Cursor norm: 21.667372852701398, 139.23845503626492. Hand norm: 14.342495776027988\n",
      "Cursor norm: 23.057016290854133, 62.69012953806904. Hand norm: 17.833820649445205\n"
     ]
    }
   ],
   "source": [
    "for trial_id,trial in td_lambda.iterrows():\n",
    "    cursor_pos = trial['cursor_pos_shift'][:,0]\n",
    "    cursor_vel = trial['cursor_vel_shift'][:,0]\n",
    "    hand_pos = trial['hand_pos'][:,0]\n",
    "    norm_cursor_pos = np.sqrt(np.mean(cursor_pos**2))\n",
    "    norm_cursor_vel = np.sqrt(np.mean(cursor_vel**2))\n",
    "    norm_hand_pos = np.sqrt(np.mean(hand_pos**2))\n",
    "    print(f\"Cursor norm: {norm_cursor_pos}, {norm_cursor_vel}. Hand norm: {norm_hand_pos}\")"
   ]
  },
  {
   "cell_type": "code",
   "execution_count": null,
   "id": "pharmaceutical-separate",
   "metadata": {},
   "outputs": [],
   "source": [
    "cursor_pos = td.loc[151,'cursor_pos']\n",
    "cursor_vel = td.loc[151,'cursor_vel']\n",
    "\n",
    "np.column_stack((cursor_pos[:,1],cursor_vel[:,1]))"
   ]
  },
  {
   "cell_type": "code",
   "execution_count": null,
   "id": "ceramic-certification",
   "metadata": {},
   "outputs": [],
   "source": [
    "np.unique(td['lambda'])\n",
    "lambda_to_use = 3.3\n",
    "td_lambda = td[td['lambda']==lambda_to_use]\n",
    "control_obs = [el[:,0][:,None] for el in td_lambda['hand_pos']]\n",
    "vis_input = [np.column_stack((pos[:,0],vel[:,0]))\n",
    "            for pos,vel in zip(td_lambda['cursor_pos_shift'],td_lambda['cursor_vel_shift'])]\n",
    "for trial_id,trial in td_lambda.iterrows():\n",
    "    display(trial)"
   ]
  },
  {
   "cell_type": "code",
   "execution_count": null,
   "id": "dense-bradford",
   "metadata": {},
   "outputs": [],
   "source": [
    "posterior_probs = [hmm.expected_states(data=data, input=inpt)[0]\n",
    "                for data, inpt\n",
    "                in zip(control_obs, vis_input)]\n",
    "\n",
    "def \n"
   ]
  },
  {
   "cell_type": "code",
   "execution_count": null,
   "id": "statutory-radio",
   "metadata": {},
   "outputs": [],
   "source": [
    "# Pick out specific trial\n",
    "trial_id = 159\n",
    "color_by_state=True\n",
    "scale=35\n",
    "\n",
    "trial = td_lambda.loc[trial_id,:]\n",
    "    \n",
    "# Plot the true and inferred discrete states\n",
    "hmm_z = hmm.most_likely_states(\n",
    "    trial['hand_pos'][:,0][:,None],\n",
    "    input=np.column_stack((trial['cursor_pos'][:,0],trial['cursor_vel'][:,0])),\n",
    "    )\n",
    "\n",
    "# old way\n",
    "oldfig = plt.figure(figsize=(5,5))\n",
    "plt.plot([0,6],[0,0],'-k')\n",
    "plt.plot(trial['trialtime'],trial['cursor_pos'][:,0],'-b')\n",
    "plt.plot(trial['trialtime'],trial['hand_pos'][:,0],'-r')\n",
    "plt.xlim(0,6)\n",
    "plt.ylim(-scale,scale)\n",
    "plt.xlabel('Time (s)')\n",
    "plt.ylabel('Cursor or hand position')\n",
    "plt.savefig('/home/raeed/Wiki/smile/agendas/lab-meetings/presentations/smile/20210221/Ford_20180618_CST_old.pdf')\n",
    "\n",
    "sm_plot = plt.figure(figsize=(5,5))\n",
    "plt.plot([-60,60],[60,-60],'--k')\n",
    "plt.plot([0,0],[-60,60],'-k')\n",
    "plt.plot([-60,60],[0,0],'-k')\n",
    "if color_by_state:\n",
    "    plt.scatter(trial['cursor_pos'][:,0],trial['hand_pos'][:,0],c=hmm_z,cmap=cmap,s=10)\n",
    "else:\n",
    "    plt.scatter(trial['cursor_pos'][:,0],trial['hand_pos'][:,0],c='k',s=10)\n",
    "plt.xlim(-scale,scale)\n",
    "plt.ylim(-scale,scale)\n",
    "plt.xlabel('Cursor pos')\n",
    "plt.ylabel('Hand pos')\n",
    "plt.savefig('/home/raeed/Wiki/smile/agendas/lab-meetings/presentations/smile/20210221/Ford_20180618_CST_sensorimotor.pdf')\n",
    "\n",
    "#     plt.subplot(222)\n",
    "#     plt.imshow(hmm_z[None,:],\n",
    "#                aspect=\"auto\",\n",
    "#                cmap=cmap,\n",
    "#                vmin=0,\n",
    "#                vmax=len(colors)-1,\n",
    "#                extent=(0, trial['bin_size']*trial['hand_pos'].shape[0], -scale, scale))\n",
    "#     plt.plot(np.arange(0,trial['cursor_pos'].shape[0])*trial['bin_size'],trial['hand_pos'][:,0], '-k')\n",
    "#     plt.xlim(0, trial['bin_size']*trial['hand_pos'].shape[0])\n",
    "#     plt.xlabel(\"time\")\n",
    "#     plt.ylim(-scale,scale)\n",
    "#     plt.tight_layout()\n",
    "\n",
    "#     plt.subplot(223)\n",
    "#     plt.imshow(hmm_z[:,None],\n",
    "#                aspect=\"auto\",\n",
    "#                cmap=cmap,\n",
    "#                vmin=0,\n",
    "#                vmax=len(colors)-1,\n",
    "#                extent=(-scale, scale, trial['bin_size']*trial['cursor_pos'].shape[0], 0))\n",
    "#     plt.plot(trial['cursor_pos'][:,0],np.arange(0,trial['cursor_pos'].shape[0])*trial['bin_size'], '-k')\n",
    "#     plt.ylim(0, trial['bin_size']*trial['hand_pos'].shape[0])\n",
    "#     plt.ylabel(\"time\")\n",
    "#     plt.xlim(-scale,scale)\n",
    "#     plt.tight_layout()\n",
    "\n",
    "phase_plot = plt.figure(figsize=(5,5))\n",
    "plt.plot([0,0],[-100,100],'-k')\n",
    "plt.plot([-60,60],[0,0],'-k')\n",
    "if color_by_state:\n",
    "    plt.scatter(trial['cursor_pos_shift'][:,0],trial['cursor_vel_shift'][:,0],c=hmm_z,cmap=cmap,s=10)\n",
    "else:\n",
    "    plt.scatter(trial['cursor_pos_shift'][:,0],trial['cursor_vel_shift'][:,0],c='k',s=10)\n",
    "plt.xlim(-scale,scale)\n",
    "plt.ylim(-100,100)\n",
    "plt.xlabel('Delayed cursor pos')\n",
    "plt.ylabel('Delayed cursor vel')\n",
    "plt.savefig('/home/raeed/Wiki/smile/agendas/lab-meetings/presentations/smile/20210221/Ford_20180618_CST_phase.pdf')"
   ]
  }
 ],
 "metadata": {
  "kernelspec": {
   "display_name": "Python 3",
   "language": "python",
   "name": "python3"
  },
  "language_info": {
   "codemirror_mode": {
    "name": "ipython",
    "version": 3
   },
   "file_extension": ".py",
   "mimetype": "text/x-python",
   "name": "python",
   "nbconvert_exporter": "python",
   "pygments_lexer": "ipython3",
   "version": "3.7.9"
  }
 },
 "nbformat": 4,
 "nbformat_minor": 5
}
