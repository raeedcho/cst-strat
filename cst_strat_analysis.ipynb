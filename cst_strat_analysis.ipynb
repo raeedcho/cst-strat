{
 "cells": [
  {
   "cell_type": "code",
   "execution_count": 1,
   "id": "impressive-davis",
   "metadata": {},
   "outputs": [],
   "source": [
    "import autograd.numpy as np\n",
    "import autograd.numpy.random as npr\n",
    "\n",
    "import pandas as pd\n",
    "import cst\n",
    "import pyaldata\n",
    "\n",
    "import ssm\n",
    "from ssm.util import find_permutation\n",
    "from ssm.plots import gradient_cmap, white_to_color_cmap\n",
    "\n",
    "import matplotlib.pyplot as plt\n",
    "%matplotlib inline\n",
    "\n",
    "import seaborn as sns\n",
    "sns.set_style(\"white\")\n",
    "sns.set_context(\"talk\")\n",
    "\n",
    "color_names = [\n",
    "    \"windows blue\",\n",
    "    \"red\",\n",
    "    \"amber\",\n",
    "    \"faded green\",\n",
    "    \"dusty purple\",\n",
    "    \"orange\"\n",
    "    ]\n",
    "\n",
    "colors = sns.xkcd_palette(color_names)\n",
    "cmap = gradient_cmap(colors)\n",
    "\n",
    "\n",
    "# Speficy whether or not to save figures\n",
    "save_figures = False"
   ]
  },
  {
   "cell_type": "code",
   "execution_count": 2,
   "id": "revised-valley",
   "metadata": {},
   "outputs": [],
   "source": [
    "filename = '/data/raeed/project-data/smile/cst-gainlag/library/python/Ford_20180618_COCST_TD.mat'\n",
    "# td = cst.get_cst_dataframe(filename)\n",
    "td = pyaldata.mat2dataframe(filename,True,'td_cst')\n",
    "td.set_index('trial_id',inplace=True)"
   ]
  },
  {
   "cell_type": "code",
   "execution_count": 13,
   "id": "transsexual-provider",
   "metadata": {},
   "outputs": [
    {
     "data": {
      "application/vnd.jupyter.widget-view+json": {
       "model_id": "f502fda9759449f4848cb9d5d0df2fcf",
       "version_major": 2,
       "version_minor": 0
      },
      "text/plain": [
       "  0%|          | 0/50 [00:00<?, ?it/s]"
      ]
     },
     "metadata": {},
     "output_type": "display_data"
    },
    {
     "data": {
      "image/png": "[encoded data removed]",
      "text/plain": [
       "<Figure size 432x288 with 1 Axes>"
      ]
     },
     "metadata": {},
     "output_type": "display_data"
    }
   ],
   "source": [
    "num_states = 3\n",
    "obs_dim = 1\n",
    "input_dims = 2\n",
    "N_iters = 50\n",
    "\n",
    "lambda_to_use = 3.3\n",
    "td_lambda = td[td['lambda']==lambda_to_use]\n",
    "control_obs = [el[:,0][:,None] for el in td_lambda['hand_pos']]\n",
    "vis_input = [np.column_stack((pos[:,0],vel[:,0]))\n",
    "            for pos,vel in zip(td_lambda['cursor_pos_shift'],td_lambda['cursor_vel_shift'])]\n",
    "\n",
    "hmm = ssm.HMM(num_states, obs_dim, M=input_dims, observations=\"autoregressive\",transitions='recurrent_only')\n",
    "\n",
    "hmm_lls = hmm.fit(control_obs, inputs=vis_input, method=\"em\", num_iters=N_iters, init_method=\"kmeans\") #can also use random for initialization method, which sometimes works better\n",
    "\n",
    "# make plots\n",
    "plt.plot(hmm_lls, label=\"EM\")\n",
    "plt.xlabel(\"EM Iteration\")\n",
    "plt.ylabel(\"Log Probability\")\n",
    "plt.legend(loc=\"lower right\")\n",
    "plt.show()"
   ]
  },
  {
   "cell_type": "code",
   "execution_count": 12,
   "id": "numeric-minimum",
   "metadata": {},
   "outputs": [
    {
     "data": {
      "application/vnd.jupyter.widget-view+json": {
       "model_id": "295c2dd3dd7b466e948b26c052114f0d",
       "version_major": 2,
       "version_minor": 0
      },
      "text/plain": [
       "interactive(children=(Dropdown(description='trial_id', options=(151, 152, 153, 154, 155, 158, 159, 160, 161, 1…"
      ]
     },
     "metadata": {},
     "output_type": "display_data"
    }
   ],
   "source": [
    "from ipywidgets import interact\n",
    "\n",
    "@interact(trial_id=list(td_lambda.index),scale=(10,60))\n",
    "def plot_cst_trial(trial_id,scale):\n",
    "    trial = td_lambda.loc[trial_id,:]\n",
    "    \n",
    "    # Plot the true and inferred discrete states\n",
    "    hmm_z = hmm.most_likely_states(\n",
    "        trial['hand_pos'][:,0][:,None],\n",
    "        input=np.column_stack((trial['cursor_pos'][:,0],trial['cursor_vel'][:,0])),\n",
    "        )\n",
    "\n",
    "    plt.figure(figsize=(10,10))\n",
    "    plt.subplot(221)\n",
    "    plt.plot([-60,60],[60,-60],'--k')\n",
    "    plt.plot([0,0],[-60,60],'-k')\n",
    "    plt.plot([-60,60],[0,0],'-k')\n",
    "    plt.scatter(trial['cursor_pos'][:,0],trial['hand_pos'][:,0],c=hmm_z,cmap=cmap,s=10)\n",
    "    plt.xlim(-scale,scale)\n",
    "    plt.ylim(-scale,scale)\n",
    "    plt.xlabel('Cursor pos')\n",
    "    plt.ylabel('Hand pos')\n",
    "    \n",
    "    plt.subplot(222)\n",
    "    plt.imshow(hmm_z[None,:],\n",
    "               aspect=\"auto\",\n",
    "               cmap=cmap,\n",
    "               vmin=0,\n",
    "               vmax=len(colors)-1,\n",
    "               extent=(0, trial['bin_size']*trial['hand_pos'].shape[0], -scale, scale))\n",
    "    plt.plot(np.arange(0,trial['cursor_pos'].shape[0])*trial['bin_size'],trial['hand_pos'][:,0], '-k')\n",
    "    plt.xlim(0, trial['bin_size']*trial['hand_pos'].shape[0])\n",
    "    plt.xlabel(\"time\")\n",
    "    plt.ylim(-scale,scale)\n",
    "    plt.tight_layout()\n",
    "    \n",
    "    plt.subplot(223)\n",
    "    plt.imshow(hmm_z[:,None],\n",
    "               aspect=\"auto\",\n",
    "               cmap=cmap,\n",
    "               vmin=0,\n",
    "               vmax=len(colors)-1,\n",
    "               extent=(-scale, scale, trial['bin_size']*trial['cursor_pos'].shape[0], 0))\n",
    "    plt.plot(trial['cursor_pos'][:,0],np.arange(0,trial['cursor_pos'].shape[0])*trial['bin_size'], '-k')\n",
    "    plt.ylim(0, trial['bin_size']*trial['hand_pos'].shape[0])\n",
    "    plt.ylabel(\"time\")\n",
    "    plt.xlim(-scale,scale)\n",
    "    plt.tight_layout()\n",
    "    \n",
    "    plt.subplot(224)\n",
    "    plt.plot([0,0],[-100,100],'-k')\n",
    "    plt.plot([-60,60],[0,0],'-k')\n",
    "    plt.scatter(trial['cursor_pos_shift'][:,0],trial['cursor_vel_shift'][:,0],c=hmm_z,cmap=cmap,s=10)\n",
    "    plt.xlim(-scale,scale)\n",
    "    plt.ylim(-100,100)\n",
    "    plt.xlabel('Delayed cursor pos')\n",
    "    plt.ylabel('Delayed cursor vel')"
   ]
  },
  {
   "cell_type": "code",
   "execution_count": null,
   "id": "working-ultimate",
   "metadata": {},
   "outputs": [],
   "source": [
    "for i in range(num_states):\n",
    "    plt.subplot(4,2,2*i+2)\n",
    "    plt.imshow(hmm.observations.As[i],aspect='auto',cmap='RdBu',clim=[-1,1])\n",
    "    if i==0:\n",
    "        plt.title('Predicted')\n",
    "    plt.ylabel('State'+str(i))\n"
   ]
  },
  {
   "cell_type": "code",
   "execution_count": 5,
   "id": "million-saver",
   "metadata": {},
   "outputs": [
    {
     "name": "stdout",
     "output_type": "stream",
     "text": [
      "[[[1.00750266]]\n",
      "\n",
      " [[0.99722153]]\n",
      "\n",
      " [[1.00275669]]]\n",
      "[[ 0.00098821]\n",
      " [-0.00173879]\n",
      " [-0.00158428]]\n",
      "[[[ 7.54705811e-03 -2.70763377e-03]]\n",
      "\n",
      " [[-2.69224303e-03 -1.24527065e-05]]\n",
      "\n",
      " [[ 2.76531724e-03 -1.89999773e-03]]]\n"
     ]
    }
   ],
   "source": [
    "print(hmm.observations.As)\n",
    "print(hmm.observations.bs)\n",
    "print(hmm.observations.Vs)"
   ]
  },
  {
   "cell_type": "code",
   "execution_count": 6,
   "id": "acceptable-target",
   "metadata": {},
   "outputs": [
    {
     "name": "stdout",
     "output_type": "stream",
     "text": [
      "[[ 0.03432678]\n",
      " [-0.05791633]\n",
      " [ 0.02358955]]\n",
      "[ 0.98547972 -2.05583098  1.07035126]\n",
      "[[ 0.04902315 -0.01607239]\n",
      " [-0.07762953  0.00866576]\n",
      " [ 0.02860638  0.00740663]]\n"
     ]
    }
   ],
   "source": [
    "print(hmm.transitions.Rs)\n",
    "print(hmm.transitions.r)\n",
    "print(hmm.transitions.Ws)"
   ]
  },
  {
   "cell_type": "code",
   "execution_count": null,
   "id": "likely-fluid",
   "metadata": {},
   "outputs": [],
   "source": [
    "hmm.transitions.transition_matrices(np.ones((3,1)),input=np.zeros((3,2)),mask=None,tag=None)"
   ]
  },
  {
   "cell_type": "code",
   "execution_count": 8,
   "id": "empirical-chick",
   "metadata": {},
   "outputs": [
    {
     "name": "stdout",
     "output_type": "stream",
     "text": [
      "Cursor norm: 20.424231478312453, 41.19827142401718. Hand norm: 21.480630694019194\n",
      "Cursor norm: 5.61105745220138, 9.25052322182254. Hand norm: 6.189252648724854\n",
      "Cursor norm: 6.20130830625251, 27.31931739132772. Hand norm: 7.263373934046816\n",
      "Cursor norm: 8.507695138878173, 18.49789333908668. Hand norm: 9.866937430683754\n",
      "Cursor norm: 10.943314875763637, 33.228697579305454. Hand norm: 11.359033035204538\n",
      "Cursor norm: 7.236795325015762, 25.386132983059724. Hand norm: 9.89081057972995\n",
      "Cursor norm: 8.749493502473104, 28.15320380681541. Hand norm: 10.310487132527468\n",
      "Cursor norm: 9.447822843945769, 11.132247100111641. Hand norm: 9.98147240800696\n",
      "Cursor norm: 33.71513118326782, 29.366167800258886. Hand norm: 32.661696322854894\n",
      "Cursor norm: 6.093937148788903, 19.927268255616678. Hand norm: 7.449465278408954\n",
      "Cursor norm: 6.325739991857857, 37.642333506421586. Hand norm: 7.591538350437245\n",
      "Cursor norm: 8.408214182008955, 18.53500045200462. Hand norm: 9.010981834152133\n",
      "Cursor norm: 8.013906075794157, 30.575055887463567. Hand norm: 8.991470284959584\n",
      "Cursor norm: 6.702326301756833, 25.65092013155285. Hand norm: 7.955818247369934\n",
      "Cursor norm: 36.878933288574224, 39.76317230768716. Hand norm: 35.72878197793549\n",
      "Cursor norm: 21.667372852701398, 139.23845503626492. Hand norm: 14.342495776027988\n",
      "Cursor norm: 23.057016290854133, 62.69012953806904. Hand norm: 17.833820649445205\n"
     ]
    }
   ],
   "source": [
    "for trial_id,trial in td_lambda.iterrows():\n",
    "    cursor_pos = trial['cursor_pos_shift'][:,0]\n",
    "    cursor_vel = trial['cursor_vel_shift'][:,0]\n",
    "    hand_pos = trial['hand_pos'][:,0]\n",
    "    norm_cursor_pos = np.sqrt(np.mean(cursor_pos**2))\n",
    "    norm_cursor_vel = np.sqrt(np.mean(cursor_vel**2))\n",
    "    norm_hand_pos = np.sqrt(np.mean(hand_pos**2))\n",
    "    print(f\"Cursor norm: {norm_cursor_pos}, {norm_cursor_vel}. Hand norm: {norm_hand_pos}\")"
   ]
  },
  {
   "cell_type": "code",
   "execution_count": null,
   "id": "pharmaceutical-separate",
   "metadata": {},
   "outputs": [],
   "source": [
    "cursor_pos = td.loc[151,'cursor_pos']\n",
    "cursor_vel = td.loc[151,'cursor_vel']\n",
    "\n",
    "np.column_stack((cursor_pos[:,1],cursor_vel[:,1]))"
   ]
  },
  {
   "cell_type": "code",
   "execution_count": null,
   "id": "ceramic-certification",
   "metadata": {},
   "outputs": [],
   "source": [
    "np.unique(td['lambda'])\n",
    "lambda_to_use = 3.3\n",
    "td_lambda = td[td['lambda']==lambda_to_use]\n",
    "control_obs = [el[:,0][:,None] for el in td_lambda['hand_pos']]\n",
    "vis_input = [np.column_stack((pos[:,0],vel[:,0]))\n",
    "            for pos,vel in zip(td_lambda['cursor_pos_shift'],td_lambda['cursor_vel_shift'])]\n",
    "for trial_id,trial in td_lambda.iterrows():\n",
    "    display(trial)"
   ]
  },
  {
   "cell_type": "code",
   "execution_count": 10,
   "id": "dense-bradford",
   "metadata": {},
   "outputs": [
    {
     "data": {
      "text/plain": [
       "['A',\n",
       " 'As',\n",
       " 'D',\n",
       " 'J0',\n",
       " 'K',\n",
       " 'M',\n",
       " 'Psi0',\n",
       " 'Sigmas',\n",
       " 'Sigmas_init',\n",
       " 'Vs',\n",
       " '_As',\n",
       " '__class__',\n",
       " '__delattr__',\n",
       " '__dict__',\n",
       " '__dir__',\n",
       " '__doc__',\n",
       " '__eq__',\n",
       " '__format__',\n",
       " '__ge__',\n",
       " '__getattribute__',\n",
       " '__gt__',\n",
       " '__hash__',\n",
       " '__init__',\n",
       " '__init_subclass__',\n",
       " '__le__',\n",
       " '__lt__',\n",
       " '__module__',\n",
       " '__ne__',\n",
       " '__new__',\n",
       " '__reduce__',\n",
       " '__reduce_ex__',\n",
       " '__repr__',\n",
       " '__setattr__',\n",
       " '__sizeof__',\n",
       " '__str__',\n",
       " '__subclasshook__',\n",
       " '__weakref__',\n",
       " '_compute_mus',\n",
       " '_extend_given_sufficient_statistics',\n",
       " '_get_sufficient_statistics',\n",
       " '_sqrt_Sigmas',\n",
       " '_sqrt_Sigmas_init',\n",
       " 'b',\n",
       " 'bs',\n",
       " 'h0',\n",
       " 'initialize',\n",
       " 'l2_penalty_A',\n",
       " 'l2_penalty_V',\n",
       " 'l2_penalty_b',\n",
       " 'lags',\n",
       " 'log_likelihoods',\n",
       " 'log_prior',\n",
       " 'm_step',\n",
       " 'mu_init',\n",
       " 'neg_hessian_expected_log_dynamics_prob',\n",
       " 'nu0',\n",
       " 'params',\n",
       " 'permute',\n",
       " 'sample_x',\n",
       " 'smooth']"
      ]
     },
     "execution_count": 10,
     "metadata": {},
     "output_type": "execute_result"
    }
   ],
   "source": [
    "dir(hmm.observations)"
   ]
  },
  {
   "cell_type": "code",
   "execution_count": null,
   "id": "statutory-radio",
   "metadata": {},
   "outputs": [],
   "source": []
  }
 ],
 "metadata": {
  "kernelspec": {
   "display_name": "Python 3",
   "language": "python",
   "name": "python3"
  },
  "language_info": {
   "codemirror_mode": {
    "name": "ipython",
    "version": 3
   },
   "file_extension": ".py",
   "mimetype": "text/x-python",
   "name": "python",
   "nbconvert_exporter": "python",
   "pygments_lexer": "ipython3",
   "version": "3.7.9"
  }
 },
 "nbformat": 4,
 "nbformat_minor": 5
}
