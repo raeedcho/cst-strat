{
 "cells": [
  {
   "cell_type": "code",
   "execution_count": 1,
   "id": "impressive-davis",
   "metadata": {},
   "outputs": [],
   "source": [
    "import autograd.numpy as np\n",
    "import autograd.numpy.random as npr\n",
    "npr.seed(0)\n",
    "\n",
    "import pandas as pd\n",
    "import cst\n",
    "import pyaldata\n",
    "\n",
    "import ssm\n",
    "from ssm.util import find_permutation\n",
    "from ssm.plots import gradient_cmap, white_to_color_cmap\n",
    "\n",
    "import matplotlib.pyplot as plt\n",
    "%matplotlib inline\n",
    "\n",
    "import seaborn as sns\n",
    "sns.set_style(\"white\")\n",
    "sns.set_context(\"talk\")\n",
    "\n",
    "color_names = [\n",
    "    \"windows blue\",\n",
    "    \"red\",\n",
    "    \"amber\",\n",
    "    \"faded green\",\n",
    "    \"dusty purple\",\n",
    "    \"orange\"\n",
    "    ]\n",
    "\n",
    "colors = sns.xkcd_palette(color_names)\n",
    "cmap = gradient_cmap(colors)\n",
    "\n",
    "\n",
    "# Speficy whether or not to save figures\n",
    "save_figures = False"
   ]
  },
  {
   "cell_type": "code",
   "execution_count": 2,
   "id": "revised-valley",
   "metadata": {},
   "outputs": [],
   "source": [
    "filename = '/data/raeed/project-data/smile/cst-gainlag/library/python/Ford_20180618_COCST_TD.mat'\n",
    "# td = cst.get_cst_dataframe(filename)\n",
    "td = pyaldata.mat2dataframe(filename,True,'td_cst')\n",
    "td.set_index('trial_id',inplace=True)"
   ]
  },
  {
   "cell_type": "code",
   "execution_count": 4,
   "id": "jewish-cambodia",
   "metadata": {},
   "outputs": [
    {
     "data": {
      "text/plain": [
       "array([[469.17173627,  11.00291774],\n",
       "       [469.21195343,  36.83392798],\n",
       "       [469.24540413,  29.13944929],\n",
       "       ...,\n",
       "       [576.18223602,   8.08692442],\n",
       "       [576.19026113,   7.81268671],\n",
       "       [576.19786139,   7.25338698]])"
      ]
     },
     "execution_count": 4,
     "metadata": {},
     "output_type": "execute_result"
    }
   ],
   "source": [
    "cursor_pos = td.loc[151,'cursor_pos']\n",
    "cursor_vel = td.loc[151,'cursor_vel']\n",
    "\n",
    "np.column_stack((cursor_pos[:,1],cursor_vel[:,1]))"
   ]
  },
  {
   "cell_type": "code",
   "execution_count": 45,
   "id": "supported-thousand",
   "metadata": {},
   "outputs": [
    {
     "data": {
      "text/plain": [
       "monkey                                                                Ford\n",
       "task                                                                   CST\n",
       "date_time                                              2018/06/18 08:46:14\n",
       "result                                                                   R\n",
       "bin_size                                                             0.001\n",
       "lambda                                                                 3.3\n",
       "ct_location                                                  [0, 470, 100]\n",
       "ot_location                                                            NaN\n",
       "cursor_pos_shift_vals                                                 -100\n",
       "cursor_vel_shift_vals                                                 -100\n",
       "idx_ctHoldTime                                                         NaN\n",
       "idx_goCueTime                                                          NaN\n",
       "idx_cstStartTime                                                         0\n",
       "idx_cstEndTime                                                        5980\n",
       "idx_rewardTime                                                         NaN\n",
       "idx_startTime                                                          NaN\n",
       "idx_otHoldTime                                                         NaN\n",
       "idx_failTime                                                           NaN\n",
       "idx_endTime                                                            NaN\n",
       "hand_pos                 [[-3.95468995877677, 469.2195497995103, -26.51...\n",
       "cursor_pos               [[-0.12629334659847405, 469.1717362726113], [-...\n",
       "cursor_pos_shift         [[-3.3521521438129374, 468.3908542991026], [-3...\n",
       "hand_vel                 [[-11.518187295239393, 10.888507536095693, -13...\n",
       "hand_acc                 [[590.2722609396661, -401.90209528984406, 1373...\n",
       "cursor_vel               [[1905.3726616120562, 11.00291773650618], [-7....\n",
       "cursor_vel_shift         [[-6.878181110167339, 1.990929076726153], [-5....\n",
       "M1_unit_guide            [[1, 1], [1, 2], [2, 1], [2, 2], [3, 1], [4, 1...\n",
       "M1_spikes                [[0, 0, 0, 0, 0, 0, 0, 0, 0, 0, 0, 0, 0, 0, 0,...\n",
       "trialtime                [0.0, 0.001, 0.002, 0.003, 0.004, 0.005, 0.006...\n",
       "Name: 151, dtype: object"
      ]
     },
     "metadata": {},
     "output_type": "display_data"
    },
    {
     "data": {
      "text/plain": [
       "monkey                                                                Ford\n",
       "task                                                                   CST\n",
       "date_time                                              2018/06/18 08:46:23\n",
       "result                                                                   R\n",
       "bin_size                                                             0.001\n",
       "lambda                                                                 3.3\n",
       "ct_location                                                  [0, 470, 100]\n",
       "ot_location                                                            NaN\n",
       "cursor_pos_shift_vals                                                 -100\n",
       "cursor_vel_shift_vals                                                 -100\n",
       "idx_ctHoldTime                                                         NaN\n",
       "idx_goCueTime                                                          NaN\n",
       "idx_cstStartTime                                                         0\n",
       "idx_cstEndTime                                                        5990\n",
       "idx_rewardTime                                                         NaN\n",
       "idx_startTime                                                          NaN\n",
       "idx_otHoldTime                                                         NaN\n",
       "idx_failTime                                                           NaN\n",
       "idx_endTime                                                            NaN\n",
       "hand_pos                 [[-0.2753990016460553, 473.510735687974, -30.7...\n",
       "cursor_pos               [[-9.43461659830244e-20, 473.5433065171341], [...\n",
       "cursor_pos_shift         [[-1.1651499200732518, 472.476061996264], [-1....\n",
       "hand_vel                 [[6.799403627836014, 20.032364112554365, -16.4...\n",
       "hand_acc                 [[-170.7811720874563, 127.4822218584502, -680....\n",
       "cursor_vel               [[140.56217875760734, 31.077405775281488], [-0...\n",
       "cursor_vel_shift         [[2.0632238776788823, 14.349349282612582], [1....\n",
       "M1_unit_guide            [[1, 1], [1, 2], [2, 1], [2, 2], [3, 1], [4, 1...\n",
       "M1_spikes                [[0, 0, 0, 0, 0, 0, 0, 0, 0, 0, 0, 0, 0, 0, 0,...\n",
       "trialtime                [0.0, 0.001, 0.002, 0.003, 0.004, 0.005, 0.006...\n",
       "Name: 152, dtype: object"
      ]
     },
     "metadata": {},
     "output_type": "display_data"
    },
    {
     "data": {
      "text/plain": [
       "monkey                                                                Ford\n",
       "task                                                                   CST\n",
       "date_time                                              2018/06/18 08:46:32\n",
       "result                                                                   R\n",
       "bin_size                                                             0.001\n",
       "lambda                                                                 3.3\n",
       "ct_location                                                  [0, 470, 100]\n",
       "ot_location                                                            NaN\n",
       "cursor_pos_shift_vals                                                 -100\n",
       "cursor_vel_shift_vals                                                 -100\n",
       "idx_ctHoldTime                                                         NaN\n",
       "idx_goCueTime                                                          NaN\n",
       "idx_cstStartTime                                                         0\n",
       "idx_cstEndTime                                                        5980\n",
       "idx_rewardTime                                                         NaN\n",
       "idx_startTime                                                          NaN\n",
       "idx_otHoldTime                                                         NaN\n",
       "idx_failTime                                                           NaN\n",
       "idx_endTime                                                            NaN\n",
       "hand_pos                 [[-2.7537228252839445, 471.0096074526077, -35....\n",
       "cursor_pos               [[-0.08817961680915504, 471.0423478236055], [-...\n",
       "cursor_pos_shift         [[-2.2627607183589253, 470.978107266295], [-2....\n",
       "hand_vel                 [[-6.951475969429676, -1.9969767631666782, 2.1...\n",
       "hand_acc                 [[-6.0201511873303435, -184.89033503522992, 32...\n",
       "cursor_vel               [[1326.8211995271315, 9.375688225760436], [-5....\n",
       "cursor_vel_shift         [[4.639506611799082, 21.09206017439879], [4.49...\n",
       "M1_unit_guide            [[1, 1], [1, 2], [2, 1], [2, 2], [3, 1], [4, 1...\n",
       "M1_spikes                [[0, 0, 0, 0, 0, 0, 0, 0, 0, 0, 0, 0, 0, 0, 0,...\n",
       "trialtime                [0.0, 0.001, 0.002, 0.003, 0.004, 0.005, 0.006...\n",
       "Name: 153, dtype: object"
      ]
     },
     "metadata": {},
     "output_type": "display_data"
    },
    {
     "data": {
      "text/plain": [
       "monkey                                                                Ford\n",
       "task                                                                   CST\n",
       "date_time                                              2018/06/18 08:46:43\n",
       "result                                                                   R\n",
       "bin_size                                                             0.001\n",
       "lambda                                                                 3.3\n",
       "ct_location                                                  [0, 470, 100]\n",
       "ot_location                                                            NaN\n",
       "cursor_pos_shift_vals                                                 -100\n",
       "cursor_vel_shift_vals                                                 -100\n",
       "idx_ctHoldTime                                                         NaN\n",
       "idx_goCueTime                                                          NaN\n",
       "idx_cstStartTime                                                         0\n",
       "idx_cstEndTime                                                        5979\n",
       "idx_rewardTime                                                         NaN\n",
       "idx_startTime                                                          NaN\n",
       "idx_otHoldTime                                                         NaN\n",
       "idx_failTime                                                           NaN\n",
       "idx_endTime                                                            NaN\n",
       "hand_pos                 [[-1.0518544054892034, 474.81327617767903, -34...\n",
       "cursor_pos               [[-0.03631301472036367, 474.7640988007086], [-...\n",
       "cursor_pos_shift         [[-1.1697080641715425, 471.80957797431756], [-...\n",
       "hand_vel                 [[1.5243939669055697, 28.42192040828053, -20.9...\n",
       "hand_acc                 [[-54.115634522801514, 107.6797022929442, 537....\n",
       "cursor_vel               [[507.3103060907699, 28.6327529176194], [-1.79...\n",
       "cursor_vel_shift         [[-2.9764884468773625, 25.271521748894028], [-...\n",
       "M1_unit_guide            [[1, 1], [1, 2], [2, 1], [2, 2], [3, 1], [4, 1...\n",
       "M1_spikes                [[0, 0, 0, 0, 0, 0, 0, 0, 0, 0, 0, 0, 0, 0, 0,...\n",
       "trialtime                [0.0, 0.001, 0.002, 0.003, 0.004, 0.005, 0.006...\n",
       "Name: 154, dtype: object"
      ]
     },
     "metadata": {},
     "output_type": "display_data"
    },
    {
     "data": {
      "text/plain": [
       "monkey                                                                Ford\n",
       "task                                                                   CST\n",
       "date_time                                              2018/06/18 08:46:51\n",
       "result                                                                   R\n",
       "bin_size                                                             0.001\n",
       "lambda                                                                 3.3\n",
       "ct_location                                                  [0, 470, 100]\n",
       "ot_location                                                            NaN\n",
       "cursor_pos_shift_vals                                                 -100\n",
       "cursor_vel_shift_vals                                                 -100\n",
       "idx_ctHoldTime                                                         NaN\n",
       "idx_goCueTime                                                          NaN\n",
       "idx_cstStartTime                                                         0\n",
       "idx_cstEndTime                                                        5990\n",
       "idx_rewardTime                                                         NaN\n",
       "idx_startTime                                                          NaN\n",
       "idx_otHoldTime                                                         NaN\n",
       "idx_failTime                                                           NaN\n",
       "idx_endTime                                                            NaN\n",
       "hand_pos                 [[-3.476196207346721, 469.81053339784484, -35....\n",
       "cursor_pos               [[-1.3829215404902274e-18, 469.7421742120073],...\n",
       "cursor_pos_shift         [[-2.6691354478477103, 469.7712077476406], [-2...\n",
       "hand_vel                 [[-10.44359969127683, 8.070502595273858, 5.827...\n",
       "hand_acc                 [[504.576940233314, -1545.4303902657753, 492.9...\n",
       "cursor_vel               [[1728.9133770864253, 8.01802660964767], [-6.7...\n",
       "cursor_vel_shift         [[-1.9434567982461441, -10.544648082174026], [...\n",
       "M1_unit_guide            [[1, 1], [1, 2], [2, 1], [2, 2], [3, 1], [4, 1...\n",
       "M1_spikes                [[0, 0, 0, 0, 0, 0, 0, 0, 0, 0, 0, 0, 0, 0, 0,...\n",
       "trialtime                [0.0, 0.001, 0.002, 0.003, 0.004, 0.005, 0.006...\n",
       "Name: 155, dtype: object"
      ]
     },
     "metadata": {},
     "output_type": "display_data"
    },
    {
     "data": {
      "text/plain": [
       "monkey                                                                Ford\n",
       "task                                                                   CST\n",
       "date_time                                              2018/06/18 08:47:07\n",
       "result                                                                   R\n",
       "bin_size                                                             0.001\n",
       "lambda                                                                 3.3\n",
       "ct_location                                                  [0, 470, 100]\n",
       "ot_location                                                            NaN\n",
       "cursor_pos_shift_vals                                                 -100\n",
       "cursor_vel_shift_vals                                                 -100\n",
       "idx_ctHoldTime                                                         NaN\n",
       "idx_goCueTime                                                          NaN\n",
       "idx_cstStartTime                                                         0\n",
       "idx_cstEndTime                                                        5979\n",
       "idx_rewardTime                                                         NaN\n",
       "idx_startTime                                                          NaN\n",
       "idx_otHoldTime                                                         NaN\n",
       "idx_failTime                                                           NaN\n",
       "idx_endTime                                                            NaN\n",
       "hand_pos                 [[1.3772533198792292, 471.87691625237187, -22....\n",
       "cursor_pos               [[0.03899636338024628, 471.8422859027212], [0....\n",
       "cursor_pos_shift         [[0.5994035782297416, 471.53296570975476], [0....\n",
       "hand_vel                 [[12.787649992651684, 9.892616986263638, -6.80...\n",
       "hand_acc                 [[-199.18798532009313, 210.29010007111972, -14...\n",
       "cursor_vel               [[-662.1838133525289, 9.78930449397807], [2.07...\n",
       "cursor_vel_shift         [[3.0541291688386236, -6.054193504667177], [2....\n",
       "M1_unit_guide            [[1, 1], [1, 2], [2, 1], [2, 2], [3, 1], [4, 1...\n",
       "M1_spikes                [[0, 0, 0, 0, 0, 0, 0, 0, 0, 0, 0, 1, 0, 0, 0,...\n",
       "trialtime                [0.0, 0.001, 0.002, 0.003, 0.004, 0.005, 0.006...\n",
       "Name: 158, dtype: object"
      ]
     },
     "metadata": {},
     "output_type": "display_data"
    },
    {
     "data": {
      "text/plain": [
       "monkey                                                                Ford\n",
       "task                                                                   CST\n",
       "date_time                                              2018/06/18 08:47:15\n",
       "result                                                                   R\n",
       "bin_size                                                             0.001\n",
       "lambda                                                                 3.3\n",
       "ct_location                                                  [0, 470, 100]\n",
       "ot_location                                                            NaN\n",
       "cursor_pos_shift_vals                                                 -100\n",
       "cursor_vel_shift_vals                                                 -100\n",
       "idx_ctHoldTime                                                         NaN\n",
       "idx_goCueTime                                                          NaN\n",
       "idx_cstStartTime                                                         0\n",
       "idx_cstEndTime                                                        5990\n",
       "idx_rewardTime                                                         NaN\n",
       "idx_startTime                                                          NaN\n",
       "idx_otHoldTime                                                         NaN\n",
       "idx_failTime                                                           NaN\n",
       "idx_endTime                                                            NaN\n",
       "hand_pos                 [[-2.314109721950501, 469.7978701811248, -38.7...\n",
       "cursor_pos               [[-7.250762061012656e-16, 469.7242133586533], ...\n",
       "cursor_pos_shift         [[-1.2412991047686144, 468.04869459085614], [-...\n",
       "hand_vel                 [[-7.117124171624572, 26.986009020731647, -12....\n",
       "hand_acc                 [[-155.46674473332342, 1598.603052585187, -165...\n",
       "cursor_vel               [[1152.1011876625807, 27.431149504337757], [-3...\n",
       "cursor_vel_shift         [[-11.479600114611234, 1.646842989487139], [-1...\n",
       "M1_unit_guide            [[1, 1], [1, 2], [2, 1], [2, 2], [3, 1], [4, 1...\n",
       "M1_spikes                [[0, 0, 0, 0, 0, 0, 0, 0, 0, 0, 0, 0, 0, 0, 0,...\n",
       "trialtime                [0.0, 0.001, 0.002, 0.003, 0.004, 0.005, 0.006...\n",
       "Name: 159, dtype: object"
      ]
     },
     "metadata": {},
     "output_type": "display_data"
    },
    {
     "data": {
      "text/plain": [
       "monkey                                                                Ford\n",
       "task                                                                   CST\n",
       "date_time                                              2018/06/18 08:47:24\n",
       "result                                                                   R\n",
       "bin_size                                                             0.001\n",
       "lambda                                                                 3.3\n",
       "ct_location                                                  [0, 470, 100]\n",
       "ot_location                                                            NaN\n",
       "cursor_pos_shift_vals                                                 -100\n",
       "cursor_vel_shift_vals                                                 -100\n",
       "idx_ctHoldTime                                                         NaN\n",
       "idx_goCueTime                                                          NaN\n",
       "idx_cstStartTime                                                         0\n",
       "idx_cstEndTime                                                        5990\n",
       "idx_rewardTime                                                         NaN\n",
       "idx_startTime                                                          NaN\n",
       "idx_otHoldTime                                                         NaN\n",
       "idx_failTime                                                           NaN\n",
       "idx_endTime                                                            NaN\n",
       "hand_pos                 [[0.39254275487661483, 473.466167153002, -40.9...\n",
       "cursor_pos               [[-7.520226761362182e-20, 473.4608191172897], ...\n",
       "cursor_pos_shift         [[-0.239608051241152, 471.5990156601464], [-0....\n",
       "hand_vel                 [[7.159795740489383, 12.454984574134176, -13.2...\n",
       "hand_acc                 [[256.8616496032987, -97.2454943024558, 849.76...\n",
       "cursor_vel               [[-191.75104044945593, -16.80094137259401], [0...\n",
       "cursor_vel_shift         [[-8.105618249537628, -20.809164253734007], [-...\n",
       "M1_unit_guide            [[1, 1], [1, 2], [2, 1], [2, 2], [3, 1], [4, 1...\n",
       "M1_spikes                [[0, 0, 0, 0, 0, 0, 0, 0, 0, 0, 0, 0, 0, 0, 0,...\n",
       "trialtime                [0.0, 0.001, 0.002, 0.003, 0.004, 0.005, 0.006...\n",
       "Name: 160, dtype: object"
      ]
     },
     "metadata": {},
     "output_type": "display_data"
    },
    {
     "data": {
      "text/plain": [
       "monkey                                                                Ford\n",
       "task                                                                   CST\n",
       "date_time                                              2018/06/18 08:47:32\n",
       "result                                                                   F\n",
       "bin_size                                                             0.001\n",
       "lambda                                                                 3.3\n",
       "ct_location                                                  [0, 470, 100]\n",
       "ot_location                                                            NaN\n",
       "cursor_pos_shift_vals                                                 -100\n",
       "cursor_vel_shift_vals                                                 -100\n",
       "idx_ctHoldTime                                                         NaN\n",
       "idx_goCueTime                                                          1.0\n",
       "idx_cstStartTime                                                         0\n",
       "idx_cstEndTime                                                        4009\n",
       "idx_rewardTime                                                         NaN\n",
       "idx_startTime                                                          NaN\n",
       "idx_otHoldTime                                                         NaN\n",
       "idx_failTime                                                           NaN\n",
       "idx_endTime                                                            NaN\n",
       "hand_pos                 [[-1.745031015159, 468.11052118946134, -36.382...\n",
       "cursor_pos               [[-1.9535520250435995e-15, 468.1389469411281],...\n",
       "cursor_pos_shift         [[-1.3483941132732495, 468.526202188018], [-1....\n",
       "hand_vel                 [[-11.763215912577442, -12.860096368058283, -2...\n",
       "hand_acc                 [[-184.5673546945202, -889.383777348483, -145....\n",
       "cursor_vel               [[859.61355216326, -23.1026238369054], [-8.393...\n",
       "cursor_vel_shift         [[-4.195634989962112, -14.061113764824983], [-...\n",
       "M1_unit_guide            [[1, 1], [1, 2], [2, 1], [2, 2], [3, 1], [4, 1...\n",
       "M1_spikes                [[0, 0, 0, 0, 0, 0, 0, 0, 0, 0, 0, 0, 0, 0, 0,...\n",
       "trialtime                [0.0, 0.001, 0.002, 0.003, 0.004, 0.005, 0.006...\n",
       "Name: 161, dtype: object"
      ]
     },
     "metadata": {},
     "output_type": "display_data"
    },
    {
     "data": {
      "text/plain": [
       "monkey                                                                Ford\n",
       "task                                                                   CST\n",
       "date_time                                              2018/06/18 08:47:39\n",
       "result                                                                   R\n",
       "bin_size                                                             0.001\n",
       "lambda                                                                 3.3\n",
       "ct_location                                                  [0, 470, 100]\n",
       "ot_location                                                            NaN\n",
       "cursor_pos_shift_vals                                                 -100\n",
       "cursor_vel_shift_vals                                                 -100\n",
       "idx_ctHoldTime                                                         NaN\n",
       "idx_goCueTime                                                          NaN\n",
       "idx_cstStartTime                                                         0\n",
       "idx_cstEndTime                                                        5990\n",
       "idx_rewardTime                                                         NaN\n",
       "idx_startTime                                                          NaN\n",
       "idx_otHoldTime                                                         NaN\n",
       "idx_failTime                                                           NaN\n",
       "idx_endTime                                                            NaN\n",
       "hand_pos                 [[1.5585426008508014, 471.8326398088718, -31.8...\n",
       "cursor_pos               [[1.3266520310482275e-19, 471.82885063908566],...\n",
       "cursor_pos_shift         [[0.14618352558631897, 470.80187326350364], [0...\n",
       "hand_vel                 [[16.892931131015516, 15.499202476860305, -1.9...\n",
       "hand_acc                 [[166.45632847822597, 726.2307826749733, 60.65...\n",
       "cursor_vel               [[-764.6776731428673, 41.91733680221429], [2.4...\n",
       "cursor_vel_shift         [[7.5628576252754005, 29.63169706913502], [4.6...\n",
       "M1_unit_guide            [[1, 1], [1, 2], [2, 1], [2, 2], [3, 1], [4, 1...\n",
       "M1_spikes                [[0, 0, 0, 0, 0, 0, 0, 0, 0, 0, 0, 0, 0, 0, 0,...\n",
       "trialtime                [0.0, 0.001, 0.002, 0.003, 0.004, 0.005, 0.006...\n",
       "Name: 162, dtype: object"
      ]
     },
     "metadata": {},
     "output_type": "display_data"
    },
    {
     "data": {
      "text/plain": [
       "monkey                                                                Ford\n",
       "task                                                                   CST\n",
       "date_time                                              2018/06/18 08:47:48\n",
       "result                                                                   R\n",
       "bin_size                                                             0.001\n",
       "lambda                                                                 3.3\n",
       "ct_location                                                  [0, 470, 100]\n",
       "ot_location                                                            NaN\n",
       "cursor_pos_shift_vals                                                 -100\n",
       "cursor_vel_shift_vals                                                 -100\n",
       "idx_ctHoldTime                                                         NaN\n",
       "idx_goCueTime                                                          NaN\n",
       "idx_cstStartTime                                                         0\n",
       "idx_cstEndTime                                                        5980\n",
       "idx_rewardTime                                                         NaN\n",
       "idx_startTime                                                          NaN\n",
       "idx_otHoldTime                                                         NaN\n",
       "idx_failTime                                                           NaN\n",
       "idx_endTime                                                            NaN\n",
       "hand_pos                 [[-3.968492628836969, 471.18893229643766, -45....\n",
       "cursor_pos               [[-0.12900238427774452, 471.1414501740353], [-...\n",
       "cursor_pos_shift         [[-3.4066416446346492, 471.20450641516555], [-...\n",
       "hand_vel                 [[-8.378737879976928, -2.239169419709943, 2.27...\n",
       "hand_acc                 [[102.10441594346668, 1028.519047181797, -963....\n",
       "cursor_vel               [[1912.488718973535, -1.9183264112714207], [-7...\n",
       "cursor_vel_shift         [[-6.084707109617509, 1.1297574598928684], [-4...\n",
       "M1_unit_guide            [[1, 1], [1, 2], [2, 1], [2, 2], [3, 1], [4, 1...\n",
       "M1_spikes                [[0, 0, 0, 0, 0, 0, 0, 0, 0, 0, 0, 0, 0, 0, 0,...\n",
       "trialtime                [0.0, 0.001, 0.002, 0.003, 0.004, 0.005, 0.006...\n",
       "Name: 163, dtype: object"
      ]
     },
     "metadata": {},
     "output_type": "display_data"
    },
    {
     "data": {
      "text/plain": [
       "monkey                                                                Ford\n",
       "task                                                                   CST\n",
       "date_time                                              2018/06/18 08:48:01\n",
       "result                                                                   R\n",
       "bin_size                                                             0.001\n",
       "lambda                                                                 3.3\n",
       "ct_location                                                  [0, 470, 100]\n",
       "ot_location                                                            NaN\n",
       "cursor_pos_shift_vals                                                 -100\n",
       "cursor_vel_shift_vals                                                 -100\n",
       "idx_ctHoldTime                                                         NaN\n",
       "idx_goCueTime                                                          NaN\n",
       "idx_cstStartTime                                                         0\n",
       "idx_cstEndTime                                                        5990\n",
       "idx_rewardTime                                                         NaN\n",
       "idx_startTime                                                          NaN\n",
       "idx_otHoldTime                                                         NaN\n",
       "idx_failTime                                                           NaN\n",
       "idx_endTime                                                            NaN\n",
       "hand_pos                 [[1.3244719551942432, 472.931747377967, -35.26...\n",
       "cursor_pos               [[1.21343462967431e-18, 472.93261609584954], [...\n",
       "cursor_pos_shift         [[1.4278414239804824, 471.9043767957668], [1.4...\n",
       "hand_vel                 [[-10.799395385079892, 12.304003796117502, 3.2...\n",
       "hand_acc                 [[129.84271681354443, -566.0984838726786, -602...\n",
       "cursor_vel               [[-666.9883526753844, 3.5989347610438895], [1....\n",
       "cursor_vel_shift         [[5.9634057200426085, 2.1288893570954297], [6....\n",
       "M1_unit_guide            [[1, 1], [1, 2], [2, 1], [2, 2], [3, 1], [4, 1...\n",
       "M1_spikes                [[0, 0, 0, 0, 0, 0, 0, 0, 0, 0, 0, 0, 0, 0, 0,...\n",
       "trialtime                [0.0, 0.001, 0.002, 0.003, 0.004, 0.005, 0.006...\n",
       "Name: 165, dtype: object"
      ]
     },
     "metadata": {},
     "output_type": "display_data"
    },
    {
     "data": {
      "text/plain": [
       "monkey                                                                Ford\n",
       "task                                                                   CST\n",
       "date_time                                              2018/06/18 08:48:09\n",
       "result                                                                   R\n",
       "bin_size                                                             0.001\n",
       "lambda                                                                 3.3\n",
       "ct_location                                                  [0, 470, 100]\n",
       "ot_location                                                            NaN\n",
       "cursor_pos_shift_vals                                                 -100\n",
       "cursor_vel_shift_vals                                                 -100\n",
       "idx_ctHoldTime                                                         NaN\n",
       "idx_goCueTime                                                          NaN\n",
       "idx_cstStartTime                                                         0\n",
       "idx_cstEndTime                                                        5980\n",
       "idx_rewardTime                                                         NaN\n",
       "idx_startTime                                                          NaN\n",
       "idx_otHoldTime                                                         NaN\n",
       "idx_failTime                                                           NaN\n",
       "idx_endTime                                                            NaN\n",
       "hand_pos                 [[3.095501153152444, 474.3663230564708, -43.55...\n",
       "cursor_pos               [[0.11051035384719876, 474.30215134605817], [0...\n",
       "cursor_pos_shift         [[3.026492890072226, 472.4027505075302], [3.03...\n",
       "hand_vel                 [[-12.349529901025436, 5.2041323656908345, -8....\n",
       "hand_acc                 [[345.92180682202456, -33.73130788020259, 943....\n",
       "cursor_vel               [[-1494.7227174454435, 5.388948744524664], [6....\n",
       "cursor_vel_shift         [[5.033596519998791, 25.740456997112894], [8.3...\n",
       "M1_unit_guide            [[1, 1], [1, 2], [2, 1], [2, 2], [3, 1], [4, 1...\n",
       "M1_spikes                [[0, 0, 0, 0, 0, 0, 0, 0, 0, 0, 0, 0, 0, 0, 0,...\n",
       "trialtime                [0.0, 0.001, 0.002, 0.003, 0.004, 0.005, 0.006...\n",
       "Name: 166, dtype: object"
      ]
     },
     "metadata": {},
     "output_type": "display_data"
    },
    {
     "data": {
      "text/plain": [
       "monkey                                                                Ford\n",
       "task                                                                   CST\n",
       "date_time                                              2018/06/18 08:48:19\n",
       "result                                                                   R\n",
       "bin_size                                                             0.001\n",
       "lambda                                                                 3.3\n",
       "ct_location                                                  [0, 470, 100]\n",
       "ot_location                                                            NaN\n",
       "cursor_pos_shift_vals                                                 -100\n",
       "cursor_vel_shift_vals                                                 -100\n",
       "idx_ctHoldTime                                                         NaN\n",
       "idx_goCueTime                                                          NaN\n",
       "idx_cstStartTime                                                         0\n",
       "idx_cstEndTime                                                        5980\n",
       "idx_rewardTime                                                         NaN\n",
       "idx_startTime                                                          NaN\n",
       "idx_otHoldTime                                                         NaN\n",
       "idx_failTime                                                           NaN\n",
       "idx_endTime                                                            NaN\n",
       "hand_pos                 [[-2.4818806811674685, 471.68638713853767, -39...\n",
       "cursor_pos               [[-0.06955453781579606, 471.68250669344684], [...\n",
       "cursor_pos_shift         [[-0.9096537179500275, 472.33447946127524], [-...\n",
       "hand_vel                 [[-10.390769448246163, -0.8157993129601425, -3...\n",
       "hand_acc                 [[540.2003622108102, 516.8901520706136, 328.26...\n",
       "cursor_vel               [[1198.2545074313293, 26.397122933903525], [-4...\n",
       "cursor_vel_shift         [[-14.48772642581363, 30.566407069894684], [-1...\n",
       "M1_unit_guide            [[1, 1], [1, 2], [2, 1], [2, 2], [3, 1], [4, 1...\n",
       "M1_spikes                [[0, 0, 0, 0, 0, 0, 0, 0, 0, 0, 0, 0, 0, 0, 0,...\n",
       "trialtime                [0.0, 0.001, 0.002, 0.003, 0.004, 0.005, 0.006...\n",
       "Name: 167, dtype: object"
      ]
     },
     "metadata": {},
     "output_type": "display_data"
    },
    {
     "data": {
      "text/plain": [
       "monkey                                                                Ford\n",
       "task                                                                   CST\n",
       "date_time                                              2018/06/18 08:48:29\n",
       "result                                                                   F\n",
       "bin_size                                                             0.001\n",
       "lambda                                                                 3.3\n",
       "ct_location                                                  [0, 470, 100]\n",
       "ot_location                                                            NaN\n",
       "cursor_pos_shift_vals                                                 -100\n",
       "cursor_vel_shift_vals                                                 -100\n",
       "idx_ctHoldTime                                                         NaN\n",
       "idx_goCueTime                                                          NaN\n",
       "idx_cstStartTime                                                         0\n",
       "idx_cstEndTime                                                        4180\n",
       "idx_rewardTime                                                         NaN\n",
       "idx_startTime                                                          NaN\n",
       "idx_otHoldTime                                                         NaN\n",
       "idx_failTime                                                           NaN\n",
       "idx_endTime                                                            NaN\n",
       "hand_pos                 [[-3.3534192774167684, 472.64845164587837, -45...\n",
       "cursor_pos               [[-0.10260112752870754, 472.6120058859529], [-...\n",
       "cursor_pos_shift         [[-2.8498899756854743, 471.75028747505826], [-...\n",
       "hand_vel                 [[-11.408495969814247, 2.4953100437696256, -6....\n",
       "hand_acc                 [[339.44041101631603, -730.1792736458069, 1090...\n",
       "cursor_vel               [[1614.5226784813228, 2.890393144610602], [-11...\n",
       "cursor_vel_shift         [[7.383042378311284, 13.96119702690001], [8.53...\n",
       "M1_unit_guide            [[1, 1], [1, 2], [2, 1], [2, 2], [3, 1], [4, 1...\n",
       "M1_spikes                [[0, 0, 0, 0, 0, 0, 0, 0, 0, 0, 0, 0, 1, 0, 0,...\n",
       "trialtime                [0.0, 0.001, 0.002, 0.003, 0.004, 0.005, 0.006...\n",
       "Name: 168, dtype: object"
      ]
     },
     "metadata": {},
     "output_type": "display_data"
    },
    {
     "data": {
      "text/plain": [
       "monkey                                                                Ford\n",
       "task                                                                   CST\n",
       "date_time                                              2018/06/18 08:48:34\n",
       "result                                                                   F\n",
       "bin_size                                                             0.001\n",
       "lambda                                                                 3.3\n",
       "ct_location                                                  [0, 470, 100]\n",
       "ot_location                                                            NaN\n",
       "cursor_pos_shift_vals                                                 -100\n",
       "cursor_vel_shift_vals                                                 -100\n",
       "idx_ctHoldTime                                                         NaN\n",
       "idx_goCueTime                                                          NaN\n",
       "idx_cstStartTime                                                         0\n",
       "idx_cstEndTime                                                        1000\n",
       "idx_rewardTime                                                         NaN\n",
       "idx_startTime                                                          NaN\n",
       "idx_otHoldTime                                                         NaN\n",
       "idx_failTime                                                           NaN\n",
       "idx_endTime                                                            NaN\n",
       "hand_pos                 [[-4.287839425085333, 467.8655904261069, -43.9...\n",
       "cursor_pos               [[-0.11170639314937167, 467.8695304508331], [-...\n",
       "cursor_pos_shift         [[-1.2333166071049408, 467.77889330137873], [-...\n",
       "hand_vel                 [[686.2528802943134, 46.82595426262988, -115.1...\n",
       "hand_acc                 [[47291.81979372199, 11989.785049195212, 10714...\n",
       "cursor_vel               [[2337.4312857746772, 36.91556408486459], [-32...\n",
       "cursor_vel_shift         [[3.5922309613584082, 16.03487102107691], [0.1...\n",
       "M1_unit_guide            [[1, 1], [1, 2], [2, 1], [2, 2], [3, 1], [4, 1...\n",
       "M1_spikes                [[0, 0, 0, 0, 0, 0, 0, 0, 0, 0, 0, 0, 1, 0, 0,...\n",
       "trialtime                [0.0, 0.001, 0.002, 0.003, 0.004, 0.005, 0.006...\n",
       "Name: 169, dtype: object"
      ]
     },
     "metadata": {},
     "output_type": "display_data"
    },
    {
     "data": {
      "text/plain": [
       "monkey                                                                Ford\n",
       "task                                                                   CST\n",
       "date_time                                              2018/06/18 08:48:39\n",
       "result                                                                   F\n",
       "bin_size                                                             0.001\n",
       "lambda                                                                 3.3\n",
       "ct_location                                                  [0, 470, 100]\n",
       "ot_location                                                            NaN\n",
       "cursor_pos_shift_vals                                                 -100\n",
       "cursor_vel_shift_vals                                                 -100\n",
       "idx_ctHoldTime                                                         NaN\n",
       "idx_goCueTime                                                          0.0\n",
       "idx_cstStartTime                                                         0\n",
       "idx_cstEndTime                                                        1589\n",
       "idx_rewardTime                                                         NaN\n",
       "idx_startTime                                                          NaN\n",
       "idx_otHoldTime                                                         NaN\n",
       "idx_failTime                                                           NaN\n",
       "idx_endTime                                                            NaN\n",
       "hand_pos                 [[-3.06014886382869, 473.10363945460216, -32.6...\n",
       "cursor_pos               [[3.2719278535913947e-18, 473.1179367191671], ...\n",
       "cursor_pos_shift         [[-2.4251165399437253, 473.13165968329804], [-...\n",
       "hand_vel                 [[8.013747556506516, 2.2776974365115144, 13.11...\n",
       "hand_acc                 [[470.2650838909191, 271.2888708629175, 10.225...\n",
       "cursor_vel               [[1522.9437352897628, 7.319772878190627], [-19...\n",
       "cursor_vel_shift         [[-15.87192835999772, -0.4555495190174948], [-...\n",
       "M1_unit_guide            [[1, 1], [1, 2], [2, 1], [2, 2], [3, 1], [4, 1...\n",
       "M1_spikes                [[0, 0, 0, 0, 0, 0, 0, 0, 0, 0, 0, 0, 0, 0, 0,...\n",
       "trialtime                [0.0, 0.001, 0.002, 0.003, 0.004, 0.005, 0.006...\n",
       "Name: 170, dtype: object"
      ]
     },
     "metadata": {},
     "output_type": "display_data"
    }
   ],
   "source": [
    "np.unique(td['lambda'])\n",
    "lambda_to_use = 3.3\n",
    "td_lambda = td[td['lambda']==lambda_to_use]\n",
    "control_obs = [el[:,0][:,None] for el in td_lambda['hand_pos']]\n",
    "vis_input = [np.column_stack((pos[:,0],vel[:,0]))\n",
    "            for pos,vel in zip(td_lambda['cursor_pos_shift'],td_lambda['cursor_vel_shift'])]\n",
    "for trial_id,trial in td_lambda.iterrows():\n",
    "    display(trial)"
   ]
  },
  {
   "cell_type": "code",
   "execution_count": 104,
   "id": "possible-southeast",
   "metadata": {},
   "outputs": [
    {
     "data": {
      "application/vnd.jupyter.widget-view+json": {
       "model_id": "9558c65de90849e287ad82fe167bbac0",
       "version_major": 2,
       "version_minor": 0
      },
      "text/plain": [
       "  0%|          | 0/50 [00:00<?, ?it/s]"
      ]
     },
     "metadata": {},
     "output_type": "display_data"
    },
    {
     "data": {
      "image/png": "[encoded data removed]",
      "text/plain": [
       "<Figure size 432x288 with 1 Axes>"
      ]
     },
     "metadata": {},
     "output_type": "display_data"
    }
   ],
   "source": [
    "num_states = 3\n",
    "obs_dim = 1\n",
    "input_dims = 2\n",
    "N_iters = 50\n",
    "\n",
    "lambda_to_use = 3.3\n",
    "td_lambda = td[td['lambda']==lambda_to_use]\n",
    "control_obs = [el[:,0][:,None] for el in td_lambda['hand_pos']]\n",
    "vis_input = [np.column_stack((pos[:,0],vel[:,0]))\n",
    "            for pos,vel in zip(td_lambda['cursor_pos_shift'],td_lambda['cursor_vel_shift'])]\n",
    "\n",
    "hmm = ssm.HMM(num_states, obs_dim, M=input_dims, observations=\"autoregressive\",transitions='recurrent_only')\n",
    "\n",
    "hmm_lls = hmm.fit(control_obs, inputs=vis_input, method=\"em\", num_iters=N_iters, init_method=\"kmeans\") #can also use random for initialization method, which sometimes works better\n",
    "\n",
    "# make plots\n",
    "plt.plot(hmm_lls, label=\"EM\")\n",
    "plt.xlabel(\"EM Iteration\")\n",
    "plt.ylabel(\"Log Probability\")\n",
    "plt.legend(loc=\"lower right\")\n",
    "plt.show()"
   ]
  },
  {
   "cell_type": "code",
   "execution_count": 113,
   "id": "durable-plate",
   "metadata": {},
   "outputs": [
    {
     "data": {
      "application/vnd.jupyter.widget-view+json": {
       "model_id": "540d3e754cd14c2398cc70857ec12c13",
       "version_major": 2,
       "version_minor": 0
      },
      "text/plain": [
       "interactive(children=(Dropdown(description='trial_id', options=(151, 152, 153, 154, 155, 158, 159, 160, 161, 1…"
      ]
     },
     "metadata": {},
     "output_type": "display_data"
    }
   ],
   "source": [
    "from ipywidgets import interact\n",
    "\n",
    "@interact(trial_id=list(td_lambda.index),scale=(10,60))\n",
    "def plot_cst_trial(trial_id,scale):\n",
    "    trial = td_lambda.loc[trial_id,:]\n",
    "    \n",
    "    # Plot the true and inferred discrete states\n",
    "    hmm_z = hmm.most_likely_states(\n",
    "        trial['hand_pos'][:,0][:,None],\n",
    "        input=np.column_stack((trial['cursor_pos'][:,0],trial['cursor_vel'][:,0])),\n",
    "        )\n",
    "\n",
    "    plt.figure(figsize=(10,10))\n",
    "    plt.subplot(221)\n",
    "    plt.plot([-60,60],[60,-60],'--k')\n",
    "    plt.plot([0,0],[-60,60],'-k')\n",
    "    plt.plot([-60,60],[0,0],'-k')\n",
    "    plt.scatter(trial['cursor_pos'][:,0],trial['hand_pos'][:,0],c=hmm_z,cmap=cmap,s=10)\n",
    "    plt.xlim(-scale,scale)\n",
    "    plt.ylim(-scale,scale)\n",
    "    plt.xlabel('Cursor pos')\n",
    "    plt.ylabel('Hand pos')\n",
    "    \n",
    "    plt.subplot(222)\n",
    "    plt.imshow(hmm_z[None,:],\n",
    "               aspect=\"auto\",\n",
    "               cmap=cmap,\n",
    "               vmin=0,\n",
    "               vmax=len(colors)-1,\n",
    "               extent=(0, trial['hand_pos'].shape[0], -scale, scale))\n",
    "\n",
    "    plt.plot(trial['hand_pos'][:,0], '-k')\n",
    "    plt.xlim(0, trial['hand_pos'].shape[0])\n",
    "    plt.xlabel(\"time\")\n",
    "    plt.ylim(-scale,scale)\n",
    "    plt.title(\"Hand pos\")\n",
    "    plt.tight_layout()\n",
    "    \n",
    "    plt.figure(figsize=(12,12))\n",
    "    plt.subplot(223)\n",
    "    plt.plot([0,0],[-100,100],'-k')\n",
    "    plt.plot([-60,60],[0,0],'-k')\n",
    "    plt.scatter(trial['cursor_pos_shift'][:,0],trial['cursor_vel_shift'][:,0],c=hmm_z,cmap=cmap,s=10)\n",
    "    plt.xlim(-scale,scale)\n",
    "    plt.ylim(-100,100)\n",
    "    plt.xlabel('Cursor pos')\n",
    "    plt.ylabel('Cursor vel')"
   ]
  },
  {
   "cell_type": "code",
   "execution_count": 76,
   "id": "working-ultimate",
   "metadata": {},
   "outputs": [
    {
     "data": {
      "image/png": "[encoded data removed]",
      "text/plain": [
       "<Figure size 432x288 with 2 Axes>"
      ]
     },
     "metadata": {},
     "output_type": "display_data"
    }
   ],
   "source": [
    "for i in range(num_states):\n",
    "    plt.subplot(4,2,2*i+2)\n",
    "    plt.imshow(hmm.observations.As[i],aspect='auto',cmap='RdBu',clim=[-1,1])\n",
    "    if i==0:\n",
    "        plt.title('Predicted')\n",
    "    plt.ylabel('State'+str(i))\n"
   ]
  },
  {
   "cell_type": "code",
   "execution_count": 100,
   "id": "million-saver",
   "metadata": {},
   "outputs": [
    {
     "data": {
      "text/plain": [
       "array([[ 0.00850529,  0.00052714],\n",
       "       [-0.00850529, -0.00052714]])"
      ]
     },
     "execution_count": 100,
     "metadata": {},
     "output_type": "execute_result"
    }
   ],
   "source": [
    "hmm.transitions.Ws"
   ]
  }
 ],
 "metadata": {
  "kernelspec": {
   "display_name": "Python 3",
   "language": "python",
   "name": "python3"
  },
  "language_info": {
   "codemirror_mode": {
    "name": "ipython",
    "version": 3
   },
   "file_extension": ".py",
   "mimetype": "text/x-python",
   "name": "python",
   "nbconvert_exporter": "python",
   "pygments_lexer": "ipython3",
   "version": "3.7.9"
  }
 },
 "nbformat": 4,
 "nbformat_minor": 5
}
