{
 "cells": [
  {
   "cell_type": "code",
   "execution_count": 1,
   "id": "dirty-literacy",
   "metadata": {},
   "outputs": [],
   "source": [
    "import autograd.numpy as np\n",
    "import autograd.numpy.random as npr\n",
    "\n",
    "import sklearn\n",
    "\n",
    "import pandas as pd\n",
    "import pyaldata\n",
    "\n",
    "import ssm\n",
    "\n",
    "import matplotlib.pyplot as plt\n",
    "import matplotlib as mpl\n",
    "mpl.rcParams['pdf.fonttype'] = 42\n",
    "mpl.rcParams['ps.fonttype'] = 42\n",
    "%matplotlib inline\n",
    "\n",
    "from tqdm.notebook import tqdm\n",
    "\n",
    "import seaborn as sns\n",
    "sns.set_style(\"ticks\")\n",
    "sns.set_context(\"talk\")\n",
    "\n",
    "color_names = [\n",
    "    \"dusty purple\",\n",
    "    \"faded green\",\n",
    "    \"orange\",\n",
    "    \"amber\",\n",
    "    \"windows blue\"\n",
    "]\n",
    "\n",
    "colors = sns.xkcd_palette(color_names)\n",
    "cmap = ssm.plots.gradient_cmap(colors)\n",
    "\n",
    "# Speficy whether or not to save figures\n",
    "save_figures = False"
   ]
  },
  {
   "cell_type": "code",
   "execution_count": 2,
   "id": "emotional-bottom",
   "metadata": {},
   "outputs": [],
   "source": [
    "# filename = '/data/raeed/project-data/smile/cst-gainlag/library/python/Ford_20180618_COCST_TD.mat'\n",
    "filename = '/mnt/c/Users/Raeed/data/project-data/smile/cst-gainlag/library/python/Ford_20180618_COCST_TD.mat'\n",
    "# td = cst.get_cst_dataframe(filename)\n",
    "td = pyaldata.mat2dataframe(filename,True,'td_cst')\n",
    "td.set_index('trial_id',inplace=True)"
   ]
  },
  {
   "cell_type": "code",
   "execution_count": 3,
   "id": "emotional-specific",
   "metadata": {},
   "outputs": [],
   "source": [
    "# subselect a table of specific lambda\n",
    "lambda_to_use = 3.3\n",
    "td_lambda = td[td['lambda']==lambda_to_use]"
   ]
  },
  {
   "cell_type": "code",
   "execution_count": 32,
   "id": "metallic-houston",
   "metadata": {},
   "outputs": [
    {
     "data": {
      "application/vnd.jupyter.widget-view+json": {
       "model_id": "4ec9c42e50c34219acfcbc3cf0388921",
       "version_major": 2,
       "version_minor": 0
      },
      "text/plain": [
       "k-fold:   0%|          | 0/5 [00:00<?, ?it/s]"
      ]
     },
     "metadata": {},
     "output_type": "display_data"
    },
    {
     "data": {
      "application/vnd.jupyter.widget-view+json": {
       "model_id": "",
       "version_major": 2,
       "version_minor": 0
      },
      "text/plain": [
       "parameter sets:   0%|          | 0/4 [00:00<?, ?it/s]"
      ]
     },
     "metadata": {},
     "output_type": "display_data"
    },
    {
     "data": {
      "application/vnd.jupyter.widget-view+json": {
       "model_id": "",
       "version_major": 2,
       "version_minor": 0
      },
      "text/plain": [
       "parameter sets:   0%|          | 0/4 [00:00<?, ?it/s]"
      ]
     },
     "metadata": {},
     "output_type": "display_data"
    },
    {
     "data": {
      "application/vnd.jupyter.widget-view+json": {
       "model_id": "",
       "version_major": 2,
       "version_minor": 0
      },
      "text/plain": [
       "parameter sets:   0%|          | 0/4 [00:00<?, ?it/s]"
      ]
     },
     "metadata": {},
     "output_type": "display_data"
    },
    {
     "data": {
      "application/vnd.jupyter.widget-view+json": {
       "model_id": "",
       "version_major": 2,
       "version_minor": 0
      },
      "text/plain": [
       "parameter sets:   0%|          | 0/4 [00:00<?, ?it/s]"
      ]
     },
     "metadata": {},
     "output_type": "display_data"
    },
    {
     "data": {
      "application/vnd.jupyter.widget-view+json": {
       "model_id": "",
       "version_major": 2,
       "version_minor": 0
      },
      "text/plain": [
       "parameter sets:   0%|          | 0/4 [00:00<?, ?it/s]"
      ]
     },
     "metadata": {},
     "output_type": "display_data"
    },
    {
     "name": "stdout",
     "output_type": "stream",
     "text": [
      "    crossval_id  model_id       log_prob\n",
      "0             0         0 -112146.308928\n",
      "1             0         1  -91536.071913\n",
      "2             0         2  -89694.006873\n",
      "3             0         3  -85239.735300\n",
      "4             1         0 -109721.552880\n",
      "5             1         1  -89397.781116\n",
      "6             1         2  -86741.931761\n",
      "7             1         3  -80840.024702\n",
      "8             2         0  -71708.009707\n",
      "9             2         1  -78228.835323\n",
      "10            2         2 -121283.888442\n",
      "11            2         3 -137266.800994\n",
      "12            3         0  -76496.311270\n",
      "13            3         1  -64765.347954\n",
      "14            3         2  -55410.686375\n",
      "15            3         3  -57336.596811\n",
      "16            4         0  -55684.568752\n",
      "17            4         1  -47322.637979\n",
      "18            4         2  -44423.146590\n",
      "19            4         3  -41820.206218\n"
     ]
    }
   ],
   "source": [
    "# set up cross validation over a set of models\n",
    "num_states_list = [1,2,4,5]\n",
    "model_params_df = pd.DataFrame(\n",
    "    [{\n",
    "        'model_id':modelnum,\n",
    "        'num_iters':50,\n",
    "        'num_states':num_states,\n",
    "        'obs_dim':1,\n",
    "        'input_dims':3,\n",
    "        'observations':'input_driven_gaussian',\n",
    "        'transitions':'recurrent_only',\n",
    "    } for modelnum,num_states in enumerate(num_states_list)]\n",
    ")\n",
    "\n",
    "def evaluate_hmm(td,train_idx,test_idx,model_params):\n",
    "    full_obs = [el[:,0][:,None] for el in td['hand_vel']]\n",
    "    full_input = [np.column_stack((pos[:,0],vel[:,0],hand_pos[:,0]))\n",
    "                for pos,vel,hand_pos in zip(td['cursor_pos_shift'],td['cursor_vel_shift'],td['hand_pos'])]\n",
    "    \n",
    "    train_obs = [full_obs[i] for i in train_idx]\n",
    "    test_obs = [full_obs[i] for i in test_idx]\n",
    "    train_input = [full_input[i] for i in train_idx]\n",
    "    test_input = [full_input[i] for i in test_idx]\n",
    "\n",
    "    # hand_vel = A_{z_t}*(hand_vel_{t-1}) + V_{z_t}*[cursor_pos_shift;cursor_vel_shift;hand_pos] + b_{z_t} + \\omega\n",
    "    hmm = ssm.HMM(\n",
    "        int(model_params['num_states']),\n",
    "        int(model_params['obs_dim']),\n",
    "        M=int(model_params['input_dims']),\n",
    "        observations=str(model_params['observations']),\n",
    "        transitions=str(model_params['transitions']),\n",
    "    )\n",
    "    # hmm = ssm.HMM(num_states, obs_dim, M=input_dims, observations=\"autoregressive\",transitions='recurrent_only',observation_kwargs=dict(l2_penalty_A=1e10))\n",
    "\n",
    "    hmm_lls = hmm.fit(\n",
    "        train_obs,\n",
    "        inputs=train_input,\n",
    "        method=\"em\",\n",
    "        num_iters=int(model_params['num_iters']),\n",
    "        init_method=\"kmeans\", #can also use random for initialization method, which sometimes works better\n",
    "        verbose=0,\n",
    "    )\n",
    "    \n",
    "    return hmm.log_probability(test_obs,inputs=test_input)\n",
    "\n",
    "# run crossvalidation loop\n",
    "kf = sklearn.model_selection.KFold(n_splits=5,shuffle=True)\n",
    "model_ll_list = []\n",
    "for foldnum,(train_idx,test_idx) in tqdm(enumerate(kf.split(td_lambda)), total=kf.get_n_splits(), desc=\"k-fold\"):\n",
    "    for _,model_params in tqdm(\n",
    "        model_params_df.iterrows(),\n",
    "        total=model_params_df.shape[0],\n",
    "        position=1,\n",
    "        leave=False,\n",
    "        desc=\"parameter sets\"):\n",
    "        \n",
    "        model_ll_list.append(\n",
    "            {\n",
    "                'crossval_id': foldnum,\n",
    "                'model_id': model_params['model_id'],\n",
    "                'log_prob': evaluate_hmm(td_lambda,train_idx,test_idx,model_params)\n",
    "            }\n",
    "        )\n",
    "        \n",
    "model_lls = pd.DataFrame(model_ll_list)\n",
    "print(model_lls)\n"
   ]
  },
  {
   "cell_type": "code",
   "execution_count": 33,
   "id": "capital-ribbon",
   "metadata": {},
   "outputs": [
    {
     "name": "stdout",
     "output_type": "stream",
     "text": [
      "          num_states      log_prob\n",
      "model_id                          \n",
      "0                  1 -85151.350307\n",
      "1                  2 -74250.134857\n",
      "2                  4 -79510.732008\n",
      "3                  5 -80500.672805\n"
     ]
    }
   ],
   "source": [
    "print(pd.merge(model_lls,model_params_df,on='model_id',how='left').groupby('model_id')[['num_states','log_prob']].mean())\n",
    "# print(model_lls.join(model_params_df).groupby('model_id').mean())"
   ]
  }
 ],
 "metadata": {
  "kernelspec": {
   "display_name": "Python 3",
   "language": "python",
   "name": "python3"
  },
  "language_info": {
   "codemirror_mode": {
    "name": "ipython",
    "version": 3
   },
   "file_extension": ".py",
   "mimetype": "text/x-python",
   "name": "python",
   "nbconvert_exporter": "python",
   "pygments_lexer": "ipython3",
   "version": "3.7.9"
  }
 },
 "nbformat": 4,
 "nbformat_minor": 5
}
